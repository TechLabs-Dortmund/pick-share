{
  "nbformat": 4,
  "nbformat_minor": 0,
  "metadata": {
    "colab": {
      "name": "techlabs_notebook_titanic.ipynb",
      "provenance": [],
      "collapsed_sections": [],
      "toc_visible": true,
      "include_colab_link": true
    },
    "kernelspec": {
      "display_name": "Python 3",
      "language": "python",
      "name": "python3"
    },
    "language_info": {
      "codemirror_mode": {
        "name": "ipython",
        "version": 3
      },
      "file_extension": ".py",
      "mimetype": "text/x-python",
      "name": "python",
      "nbconvert_exporter": "python",
      "pygments_lexer": "ipython3",
      "version": "3.8.3"
    }
  },
  "cells": [
    {
      "cell_type": "markdown",
      "metadata": {
        "id": "view-in-github",
        "colab_type": "text"
      },
      "source": [
        "<a href=\"https://colab.research.google.com/github/tramyynt/Techlabs/blob/master/techlabs_notebook_titanic.ipynb\" target=\"_parent\"><img src=\"https://colab.research.google.com/assets/colab-badge.svg\" alt=\"Open In Colab\"/></a>"
      ]
    },
    {
      "cell_type": "markdown",
      "metadata": {
        "id": "5IKYN_qOcTPG"
      },
      "source": [
        "# Visualization and cleaning data with TITANIC DATASET"
      ]
    },
    {
      "cell_type": "markdown",
      "metadata": {
        "id": "7-7Fb2uhcTPI"
      },
      "source": [
        "## Introduction\n",
        "Congratulations! So far you have learned the basics of Python, Pandas and visualization techniques to analyse and to clean data. These are valuable skills because 80% of a data scientist's job is cleaning data and getting insights through visualizations. Only 20% are building and tuning machine learning models (which you will learn more about at the end of your curriculum). \n",
        "\n",
        "To see how powerful visualizations can be and how enthusiastic one can become about plots, check out the Ted talk \"The best stats you've ever seen\" by Hans Rosling:"
      ]
    },
    {
      "cell_type": "code",
      "metadata": {
        "id": "Kb8axoJxcTPJ"
      },
      "source": [
        "from IPython.display import YouTubeVideo\n",
        "YouTubeVideo('usdJgEwMinM', width=600, height=400)"
      ],
      "execution_count": null,
      "outputs": []
    },
    {
      "cell_type": "markdown",
      "metadata": {
        "id": "AUrnQfPPcTPQ"
      },
      "source": [
        "## Learning Goals\n",
        "\n",
        "- Learn how to clean data\n",
        "- Learn how to investigate your data through visualizations\n",
        "- Explore what representations exist in your dataset\n",
        "- Create new data/features using the data at hand\n",
        "\n",
        "Everything you will need to do will be inside of this notebook, and I've marked which cells you will need to edit by saying <b><font color='red'>\"TODO! COMPLETE THIS SECTION!\"</font></b>."
      ]
    },
    {
      "cell_type": "markdown",
      "metadata": {
        "id": "x4t4S6yxcTPR"
      },
      "source": [
        "## Personal experience\n",
        "One interesting plot I saw recently is the one below. The graph shows the babies per woman and child survival rates for all contries. Each bubble on the graph represents a country, with the size of the bubble showing the size of the country's population.\n",
        "![](https://drive.google.com/uc?export=view&id=1mK4x7eJEP_PbtbNyu0lUoMO0f6JhzvPh)\n",
        "The picture is from gapminder.org and shows that our assumption about the world being divided into developing and developed contries is overdue. Contries could be divided into the two categories in the past (1965) but the world has changed completely. The developing box is nearly empty and 85% of all countries are inside the box that used to be named developed.  \n",
        "\n",
        "What interesting plot did you come across lately? Feel free to copy-paste it in our data science channel on Slack. I would love to hear from you."
      ]
    },
    {
      "cell_type": "markdown",
      "metadata": {
        "id": "b43qOZylcTPR"
      },
      "source": [
        "Now let's come back to the notebook and the excersices. In this notebook we will explore the Titanic dataset to practice your visualization and pandas/cleaning skills more so that you also can create interesting visualizations."
      ]
    },
    {
      "cell_type": "markdown",
      "metadata": {
        "id": "NCSSHIMWcTPS"
      },
      "source": [
        "## Practice with TITANIC dataset\n",
        "\n",
        "Before you start make sure you read the README pdf file inside the unzipped folder.\n",
        "\n",
        "### import libraries\n",
        "We will use these packages to help us manipulate the data and visualize the features/labels/columns. Numpy and Pandas are helpful for manipulating the dataframe and its columns and cells. Up until now you have only worked with matplotlib in your curriculum. Here we will use matplotlib along with Seaborn to visualize our data. \n",
        "\n",
        "Seaborn is a Python data visualization library based on matplotlib. It provides a high-level interface for drawing attractive and informative statistical graphics. And it generates prettier plots than matplotlib.\n",
        "\n",
        "It is ok if you don't know how to plot data with Seaborn. That's what google is for. It is standard procedure to google while coding. I also often forget how to use certain functions and just google them."
      ]
    },
    {
      "cell_type": "code",
      "metadata": {
        "id": "3QOAscN3cTPT"
      },
      "source": [
        "import warnings\n",
        "warnings.filterwarnings('ignore')\n",
        "\n",
        "import pandas as pd\n",
        "import matplotlib.pyplot as plt\n",
        "import seaborn as sns\n",
        "import numpy as np"
      ],
      "execution_count": null,
      "outputs": []
    },
    {
      "cell_type": "markdown",
      "metadata": {
        "id": "ySw-IK3tcTPW"
      },
      "source": [
        "### first impression and informations to the dataset\n",
        "\n",
        "With Pandas, we can load the training data. You should always take a look at our data table to see the values that you'll be working with. You can use the shape and head function to look at some sample data. We can also look at its keys and column names."
      ]
    },
    {
      "cell_type": "code",
      "metadata": {
        "colab": {
          "base_uri": "https://localhost:8080/"
        },
        "id": "s-i9uzplcTPX",
        "outputId": "9ff1bf64-7306-4344-dd58-1995f205183f"
      },
      "source": [
        "# Import the csv file using pandas\n",
        "\n",
        "# from google.colab import files\n",
        "# uploaded = files.upload()\n",
        "# import io\n",
        "# train = pd.read_csv(io.StringIO(uploaded['train.csv'].decode('utf-8')))\n",
        "from google.colab import drive\n",
        "drive.mount('/content/gdrive')\n",
        "train = pd.read_csv('/content/gdrive/MyDrive/Techlabs/train.csv')"
      ],
      "execution_count": null,
      "outputs": [
        {
          "output_type": "stream",
          "text": [
            "Mounted at /content/gdrive\n"
          ],
          "name": "stdout"
        }
      ]
    },
    {
      "cell_type": "code",
      "metadata": {
        "colab": {
          "base_uri": "https://localhost:8080/"
        },
        "id": "P3sCowudcTPd",
        "outputId": "4adf45dd-8ddb-4d23-f4db-62e6f1b2f27c"
      },
      "source": [
        "# display the shape of the dataframe\n",
        "train.shape"
      ],
      "execution_count": null,
      "outputs": [
        {
          "output_type": "execute_result",
          "data": {
            "text/plain": [
              "(891, 12)"
            ]
          },
          "metadata": {
            "tags": []
          },
          "execution_count": 6
        }
      ]
    },
    {
      "cell_type": "code",
      "metadata": {
        "colab": {
          "base_uri": "https://localhost:8080/",
          "height": 204
        },
        "id": "Jvq7NnidcTPj",
        "outputId": "bccbbe95-a515-4f21-a7e8-7604c0a90e5e"
      },
      "source": [
        "# use head and display the first 5 rows of your dataframe\n",
        "train.head(5)"
      ],
      "execution_count": null,
      "outputs": [
        {
          "output_type": "execute_result",
          "data": {
            "text/html": [
              "<div>\n",
              "<style scoped>\n",
              "    .dataframe tbody tr th:only-of-type {\n",
              "        vertical-align: middle;\n",
              "    }\n",
              "\n",
              "    .dataframe tbody tr th {\n",
              "        vertical-align: top;\n",
              "    }\n",
              "\n",
              "    .dataframe thead th {\n",
              "        text-align: right;\n",
              "    }\n",
              "</style>\n",
              "<table border=\"1\" class=\"dataframe\">\n",
              "  <thead>\n",
              "    <tr style=\"text-align: right;\">\n",
              "      <th></th>\n",
              "      <th>PassengerId</th>\n",
              "      <th>Survived</th>\n",
              "      <th>Pclass</th>\n",
              "      <th>Name</th>\n",
              "      <th>Sex</th>\n",
              "      <th>Age</th>\n",
              "      <th>SibSp</th>\n",
              "      <th>Parch</th>\n",
              "      <th>Ticket</th>\n",
              "      <th>Fare</th>\n",
              "      <th>Cabin</th>\n",
              "      <th>Embarked</th>\n",
              "    </tr>\n",
              "  </thead>\n",
              "  <tbody>\n",
              "    <tr>\n",
              "      <th>0</th>\n",
              "      <td>1</td>\n",
              "      <td>0</td>\n",
              "      <td>3</td>\n",
              "      <td>Braund, Mr. Owen Harris</td>\n",
              "      <td>male</td>\n",
              "      <td>22.0</td>\n",
              "      <td>1</td>\n",
              "      <td>0</td>\n",
              "      <td>A/5 21171</td>\n",
              "      <td>7.2500</td>\n",
              "      <td>NaN</td>\n",
              "      <td>S</td>\n",
              "    </tr>\n",
              "    <tr>\n",
              "      <th>1</th>\n",
              "      <td>2</td>\n",
              "      <td>1</td>\n",
              "      <td>1</td>\n",
              "      <td>Cumings, Mrs. John Bradley (Florence Briggs Th...</td>\n",
              "      <td>female</td>\n",
              "      <td>38.0</td>\n",
              "      <td>1</td>\n",
              "      <td>0</td>\n",
              "      <td>PC 17599</td>\n",
              "      <td>71.2833</td>\n",
              "      <td>C85</td>\n",
              "      <td>C</td>\n",
              "    </tr>\n",
              "    <tr>\n",
              "      <th>2</th>\n",
              "      <td>3</td>\n",
              "      <td>1</td>\n",
              "      <td>3</td>\n",
              "      <td>Heikkinen, Miss. Laina</td>\n",
              "      <td>female</td>\n",
              "      <td>26.0</td>\n",
              "      <td>0</td>\n",
              "      <td>0</td>\n",
              "      <td>STON/O2. 3101282</td>\n",
              "      <td>7.9250</td>\n",
              "      <td>NaN</td>\n",
              "      <td>S</td>\n",
              "    </tr>\n",
              "    <tr>\n",
              "      <th>3</th>\n",
              "      <td>4</td>\n",
              "      <td>1</td>\n",
              "      <td>1</td>\n",
              "      <td>Futrelle, Mrs. Jacques Heath (Lily May Peel)</td>\n",
              "      <td>female</td>\n",
              "      <td>35.0</td>\n",
              "      <td>1</td>\n",
              "      <td>0</td>\n",
              "      <td>113803</td>\n",
              "      <td>53.1000</td>\n",
              "      <td>C123</td>\n",
              "      <td>S</td>\n",
              "    </tr>\n",
              "    <tr>\n",
              "      <th>4</th>\n",
              "      <td>5</td>\n",
              "      <td>0</td>\n",
              "      <td>3</td>\n",
              "      <td>Allen, Mr. William Henry</td>\n",
              "      <td>male</td>\n",
              "      <td>35.0</td>\n",
              "      <td>0</td>\n",
              "      <td>0</td>\n",
              "      <td>373450</td>\n",
              "      <td>8.0500</td>\n",
              "      <td>NaN</td>\n",
              "      <td>S</td>\n",
              "    </tr>\n",
              "  </tbody>\n",
              "</table>\n",
              "</div>"
            ],
            "text/plain": [
              "   PassengerId  Survived  Pclass  ...     Fare Cabin  Embarked\n",
              "0            1         0       3  ...   7.2500   NaN         S\n",
              "1            2         1       1  ...  71.2833   C85         C\n",
              "2            3         1       3  ...   7.9250   NaN         S\n",
              "3            4         1       1  ...  53.1000  C123         S\n",
              "4            5         0       3  ...   8.0500   NaN         S\n",
              "\n",
              "[5 rows x 12 columns]"
            ]
          },
          "metadata": {
            "tags": []
          },
          "execution_count": 13
        }
      ]
    },
    {
      "cell_type": "markdown",
      "metadata": {
        "id": "W_BJc9MkcTPn"
      },
      "source": [
        "Short description of the data\n",
        "1. The Survived variable is our outcome or dependent variable. It is a binary nominal datatype of 1 for survived and 0 for did not survive. All other variables are potential predictors or independent variables. What's important to note, more predictor variables do not make a better model, but the right variables.\n",
        "2. The PassengerID and Ticket variables are assumed to be random unique identifiers, that have no impact on the outcome variable. Thus, they will be excluded from analysis.\n",
        "3. The Pclass variable is an ordinal datatype for the ticket class, a proxy for socio-economic status (SES), representing 1 = upper class, 2 = middle class, and 3 = lower class.\n",
        "4. The Name variable is a nominal datatype. Besides the name of the passenger it also holds the information about the title, like master and so on.\n",
        "5. The Sex stores the information about the passengers sex as string (female or male)\n",
        "6. Embarked variables are a nominal datatype and hold the information about the port of embarkation (C = Cherbourg, Q = Queenstown, S = Southampton)\n",
        "6. The Age and Fare variable are continuous quantitative datatypes.\n",
        "7. The SibSp represents number of related siblings/spouse aboard and Parch represents number of related parents/children aboard. Both are discrete quantitative datatypes. \n",
        "8. The Cabin represents the cabin number.\n",
        "\n",
        "Let's check how many entries are nan  "
      ]
    },
    {
      "cell_type": "code",
      "metadata": {
        "colab": {
          "base_uri": "https://localhost:8080/"
        },
        "id": "vbEvq7QncTPo",
        "outputId": "390105b1-47b5-4984-8b6d-e8c72da2d51d"
      },
      "source": [
        "# use the isnull method to find out which columns contain null values\n",
        "train.isnull().sum()"
      ],
      "execution_count": null,
      "outputs": [
        {
          "output_type": "execute_result",
          "data": {
            "text/plain": [
              "PassengerId      0\n",
              "Survived         0\n",
              "Pclass           0\n",
              "Name             0\n",
              "Sex              0\n",
              "Age            177\n",
              "SibSp            0\n",
              "Parch            0\n",
              "Ticket           0\n",
              "Fare             0\n",
              "Cabin          687\n",
              "Embarked         2\n",
              "dtype: int64"
            ]
          },
          "metadata": {
            "tags": []
          },
          "execution_count": 4
        }
      ]
    },
    {
      "cell_type": "markdown",
      "metadata": {
        "id": "RaB_u3XLcTPr"
      },
      "source": [
        "There are NaN values in our data set in the age column. Furthermore, the Cabin column has a lot of missing values as well. These NaN values will get in the way of training a machine learning model. You need to fill in the NaN values with replacement values in order for the model to have a complete prediction for every row in the data set. This process is known as imputation and you will practice how to replace the missing data as well as get a feeling what story the data is telling you by using visualizations.\n",
        "\n",
        "Let's start with the age columns."
      ]
    },
    {
      "cell_type": "markdown",
      "metadata": {
        "id": "pOI68ljTcTPs"
      },
      "source": [
        "### visualize and clean data: Age"
      ]
    },
    {
      "cell_type": "markdown",
      "metadata": {
        "id": "GOzZ0G0ScTPs"
      },
      "source": [
        "Let's look how the age is dristributed. First create a copy of the dataframe to avoid maniplulating the main dataframe while doing first investigations.\n",
        "\n",
        "Then plot the distribution of the age column by using seaborns displot function (you can google \"seaborn distribution\" to see how the function is used)."
      ]
    },
    {
      "cell_type": "code",
      "metadata": {
        "colab": {
          "base_uri": "https://localhost:8080/",
          "height": 316
        },
        "id": "s-xLds-AcTPu",
        "outputId": "f2fe9a55-5089-4a82-e773-9cb5cdf5d2a2"
      },
      "source": [
        "# make a copy of the dataframe\n",
        "copy = train.copy()\n",
        "# drop all nan values of the age column using dropna.\n",
        "# don't forget to set the inplace parameter to True\n",
        "copy.dropna(subset= ['Age'], inplace= True)\n",
        "count_nan = copy['Age'].isnull().sum()\n",
        "print ('Count of NaN: ' + str(count_nan))\n",
        "\n",
        "# plot the distribution of the age by using seaborns displot function\n",
        "# input the Age column of your copy dataframe.\n",
        "# And set the bins parameter to 15\n",
        "sns.distplot(a= copy['Age'],bins=15, hist=True)"
      ],
      "execution_count": null,
      "outputs": [
        {
          "output_type": "stream",
          "text": [
            "Count of NaN: 0\n"
          ],
          "name": "stdout"
        },
        {
          "output_type": "execute_result",
          "data": {
            "text/plain": [
              "<matplotlib.axes._subplots.AxesSubplot at 0x7f607e7288d0>"
            ]
          },
          "metadata": {
            "tags": []
          },
          "execution_count": 44
        },
        {
          "output_type": "display_data",
          "data": {
            "image/png": "[encoded data removed]",
            "text/plain": [
              "<Figure size 432x288 with 1 Axes>"
            ]
          },
          "metadata": {
            "tags": [],
            "needs_background": "light"
          }
        }
      ]
    },
    {
      "cell_type": "markdown",
      "metadata": {
        "id": "BpPIo5JAcTPx"
      },
      "source": [
        "The distribution does not look crazy skewed. thus let's try using the mean value of the age to fill all nan values (if you want to use median instead feel free to try it) and display again the distribution: "
      ]
    },
    {
      "cell_type": "code",
      "metadata": {
        "colab": {
          "base_uri": "https://localhost:8080/",
          "height": 351
        },
        "id": "mW7dhCK2cTP0",
        "outputId": "2a283033-22bf-4a2d-dffa-735e92409aef"
      },
      "source": [
        "# make a copy of the dataframe\n",
        "copy = train.copy()\n",
        "# fill NaN values in age column with mean value. use the .fillna method. \n",
        "# Don't forget to set the inplace parameter to True\n",
        "copy.fillna(value = copy['Age'].mean(), inplace= True)\n",
        "\n",
        "# we will create a subplot with 2 figures to look how the age distribution changed\n",
        "fig, ax = plt.subplots(1, 2, figsize=(15, 5))\n",
        "# this will plot the age distribution without nan values.\n",
        "# the ax parameter is set to ax[0] so that the subplot knows where to place the plot\n",
        "sns.distplot(train.dropna().Age, bins=15, ax=ax[0])\n",
        "# plot here the age distribution in the copy dataframe where you\n",
        "# replaced all nan values with the mean age value. \n",
        "# don't forget to set the ax parameter to ax[1]\n",
        "sns.distplot(copy.Age, bins=15, ax=ax[1])"
      ],
      "execution_count": null,
      "outputs": [
        {
          "output_type": "execute_result",
          "data": {
            "text/plain": [
              "<matplotlib.axes._subplots.AxesSubplot at 0x7f607eb67150>"
            ]
          },
          "metadata": {
            "tags": []
          },
          "execution_count": 27
        },
        {
          "output_type": "display_data",
          "data": {
            "image/png": "[encoded data removed]",
            "text/plain": [
              "<Figure size 1080x360 with 2 Axes>"
            ]
          },
          "metadata": {
            "tags": [],
            "needs_background": "light"
          }
        }
      ]
    },
    {
      "cell_type": "markdown",
      "metadata": {
        "id": "xtxDJb43cTP3"
      },
      "source": [
        "now there is a very large peak. maybe just the mean value is not a very good idea. another idea is to generate random numbers between (mean - std) and (mean + std). For this you will generate an age_generator function below."
      ]
    },
    {
      "cell_type": "code",
      "metadata": {
        "id": "zqNDF4d9cTP4"
      },
      "source": [
        "def age_generator(df):\n",
        "    # save the mean value of the age column here\n",
        "    age_avg = df['Age'].mean()\n",
        "    # save the standard deviation of the age column here\n",
        "    age_std = df['Age'].std()\n",
        "    # we need the number of null values to know how much random ages to generate\n",
        "    # use the isnull and sum functions\n",
        "    age_null_count = df['Age'].isnull().sum()\n",
        "\n",
        "    # this will generate a list of random numbers between (mean - std) and (mean + std)\n",
        "    age_null_random_list = np.random.randint(\n",
        "        age_avg - age_std, age_avg + age_std, size=age_null_count)\n",
        "    # select all nan ages and set it equal to the list of random ages\n",
        "    df['Age'][np.isnan(df['Age'])] = age_null_random_list\n",
        "    return df"
      ],
      "execution_count": null,
      "outputs": []
    },
    {
      "cell_type": "markdown",
      "metadata": {
        "id": "5XVIS5SUcTP7"
      },
      "source": [
        "After successfully implementig the age_generator you can now use it."
      ]
    },
    {
      "cell_type": "code",
      "metadata": {
        "colab": {
          "base_uri": "https://localhost:8080/",
          "height": 351
        },
        "id": "LTFT2KHmcTP8",
        "outputId": "c3177833-0c02-4d56-b5a5-43d5cb48d0de"
      },
      "source": [
        "# again let's first create a copy of our dataframe\n",
        "copy = train.copy()\n",
        "# apply the age_generator function to the copied dataframe\n",
        "copy = age_generator(copy)\n",
        "\n",
        "# and here we will plot again the distribution of the age from the raw dataframe\n",
        "# and the dataframe where you replaced all nan values\n",
        "fig, ax = plt.subplots(1, 2, figsize=(15, 5))\n",
        "# plot the age column of the train data. \n",
        "# don't forget to drop the nan values otherwise an error will occure.\n",
        "# set the bins and ax like in the plot above\n",
        "sns.distplot(train.dropna().Age, bins=15, ax=ax[0])\n",
        "# plot the age column of the copy data.\n",
        "# you don't have to drop the nan values since to replaced them\n",
        "# with the age_generator.\n",
        "# set the bins and ax like in the plot above\n",
        "sns.distplot(copy.Age, bins = 15, ax = ax[1])"
      ],
      "execution_count": null,
      "outputs": [
        {
          "output_type": "execute_result",
          "data": {
            "text/plain": [
              "<matplotlib.axes._subplots.AxesSubplot at 0x7f607e600390>"
            ]
          },
          "metadata": {
            "tags": []
          },
          "execution_count": 47
        },
        {
          "output_type": "display_data",
          "data": {
            "image/png": "[encoded data removed]",
            "text/plain": [
              "<Figure size 1080x360 with 2 Axes>"
            ]
          },
          "metadata": {
            "tags": [],
            "needs_background": "light"
          }
        }
      ]
    },
    {
      "cell_type": "markdown",
      "metadata": {
        "id": "qUjvg5kScTP_"
      },
      "source": [
        "now the distribution is slightly skewed right, but this seems better than just using the mean value. So let's use the random age distribtion as cleaning method"
      ]
    },
    {
      "cell_type": "code",
      "metadata": {
        "colab": {
          "base_uri": "https://localhost:8080/"
        },
        "id": "LS9d0FlmcTQC",
        "outputId": "472fce3b-6adb-4acd-e028-f0617af03efe"
      },
      "source": [
        "# generate random age between (mean - std) and (mean + std)\n",
        "# this time we will apply it onto our raw dataframe since \n",
        "# we want to keep this change\n",
        "train = age_generator(train)\n",
        "\n",
        "# the age column should be clean now\n",
        "# display the sum of nan values for each column\n",
        "# use the isnull and sum functions\n",
        "train.isnull().sum()"
      ],
      "execution_count": null,
      "outputs": [
        {
          "output_type": "execute_result",
          "data": {
            "text/plain": [
              "PassengerId      0\n",
              "Survived         0\n",
              "Pclass           0\n",
              "Name             0\n",
              "Sex              0\n",
              "Age              0\n",
              "SibSp            0\n",
              "Parch            0\n",
              "Ticket           0\n",
              "Fare             0\n",
              "Cabin          687\n",
              "Embarked         2\n",
              "dtype: int64"
            ]
          },
          "metadata": {
            "tags": []
          },
          "execution_count": 8
        }
      ]
    },
    {
      "cell_type": "markdown",
      "metadata": {
        "id": "-aBp2WtdcTQJ"
      },
      "source": [
        "All NaN values should be removed from the age column. Great work. The only nan values left are in the Cabin column. But we will focus on the Cabin column later.\n",
        "\n",
        "Now let's get a feeling if the age column alone is a good feature to predict who survived. What do you think? Will it be a good predictor? \n",
        "\n",
        "We can analyze this for example with two different plots: a boxplot or as before by using a distribution plot. Let's start with a box plot"
      ]
    },
    {
      "cell_type": "code",
      "metadata": {
        "colab": {
          "base_uri": "https://localhost:8080/",
          "height": 296
        },
        "id": "cG0ZI-t_cTQL",
        "outputId": "d167e989-adc9-4f3c-b02c-a1139122c0b8"
      },
      "source": [
        "# call the boxplot function from seaborn and set the x parameter \n",
        "# to the \"Survived\" column and the y parameter to the \"Age\" column.\n",
        "# also set the data parameter to the train dataset.\n",
        "# feel free to google seaborn boxplot if you are not sure \n",
        "# how to use it\n",
        "sns.boxplot(x= 'Survived', y = 'Age', data = train)"
      ],
      "execution_count": null,
      "outputs": [
        {
          "output_type": "execute_result",
          "data": {
            "text/plain": [
              "<matplotlib.axes._subplots.AxesSubplot at 0x7f738562f8d0>"
            ]
          },
          "metadata": {
            "tags": []
          },
          "execution_count": 66
        },
        {
          "output_type": "display_data",
          "data": {
            "image/png": "[encoded data removed]",
            "text/plain": [
              "<Figure size 432x288 with 1 Axes>"
            ]
          },
          "metadata": {
            "tags": [],
            "needs_background": "light"
          }
        }
      ]
    },
    {
      "cell_type": "markdown",
      "metadata": {
        "id": "G2DSd8FhcTQQ"
      },
      "source": [
        "We see that the age for both survived and not survived has nearly the same range. Thus the age alone won't be a good predictor if we want to know who survived and who didn't.\n",
        "\n",
        "As promised we can also use the distribution plot to visualize that the age of survived passengers and not survived passengers have a significant overlap."
      ]
    },
    {
      "cell_type": "code",
      "metadata": {
        "colab": {
          "base_uri": "https://localhost:8080/",
          "height": 296
        },
        "id": "uE3Wxs5-cTQR",
        "outputId": "3deac105-3055-4ded-d9af-84b5db5e722d"
      },
      "source": [
        "# slice/filter the train dataframe to plot first only the survived passengers\n",
        "# and second only the not survived passengers\n",
        "sns.distplot(train.loc[train['Survived'] ==1 , 'Age'], color='black', label='Survived')\n",
        "sns.distplot(train.loc[train['Survived'] == 0, 'Age'], color='blue', label='not Survived')\n",
        "plt.legend()"
      ],
      "execution_count": null,
      "outputs": [
        {
          "output_type": "execute_result",
          "data": {
            "text/plain": [
              "<matplotlib.legend.Legend at 0x7f7386b50550>"
            ]
          },
          "metadata": {
            "tags": []
          },
          "execution_count": 22
        },
        {
          "output_type": "display_data",
          "data": {
            "image/png": "[encoded data removed]",
            "text/plain": [
              "<Figure size 432x288 with 1 Axes>"
            ]
          },
          "metadata": {
            "tags": [],
            "needs_background": "light"
          }
        }
      ]
    },
    {
      "cell_type": "markdown",
      "metadata": {
        "id": "MVdYbvSXcTQT"
      },
      "source": [
        "Here you should see that the distribution of survived passengers has two peaks. The big one is very close to the peak of not survived passengers, but the second smaller peak is in the range of small children. This means a lot more small children survived the tragic accident."
      ]
    },
    {
      "cell_type": "markdown",
      "metadata": {
        "id": "JJJPZBHecTQU"
      },
      "source": [
        "### visualize and clean data: Sex"
      ]
    },
    {
      "cell_type": "markdown",
      "metadata": {
        "id": "7SbiGN8ucTQV"
      },
      "source": [
        "Let's now anaylse the sex of the passengers. What do you think? Did more women or men survive the tragic titanc accident?\n",
        "\n",
        "Let's find out by plotting a barplot of the Sex column."
      ]
    },
    {
      "cell_type": "code",
      "metadata": {
        "colab": {
          "base_uri": "https://localhost:8080/",
          "height": 296
        },
        "id": "i0yYOsoDcTQX",
        "outputId": "355778ff-2278-4eeb-9017-587dc6dcac8a"
      },
      "source": [
        "# use the barplot function of seaborn. \n",
        "# enter the train dataset as data and plot Sex (x)\n",
        "# against Survived (y)\n",
        "sns.barplot(x= 'Sex', y='Survived', data = train)"
      ],
      "execution_count": null,
      "outputs": [
        {
          "output_type": "execute_result",
          "data": {
            "text/plain": [
              "<matplotlib.axes._subplots.AxesSubplot at 0x7f738556f510>"
            ]
          },
          "metadata": {
            "tags": []
          },
          "execution_count": 67
        },
        {
          "output_type": "display_data",
          "data": {
            "image/png": "[encoded data removed]",
            "text/plain": [
              "<Figure size 432x288 with 1 Axes>"
            ]
          },
          "metadata": {
            "tags": [],
            "needs_background": "light"
          }
        }
      ]
    },
    {
      "cell_type": "markdown",
      "metadata": {
        "id": "y7VHZ5aMcTQZ"
      },
      "source": [
        "The plot shows us that more female passengers survived than male passengers. \n",
        "\n",
        "Until now we have analysed the age and sex information. We saw that the age alone was not an important feature to predict who survived and who didn't, but the sex is. Do you think there is an age difference between survived and not survived inside each sex?\n",
        "\n",
        "Use boxplots to find out:"
      ]
    },
    {
      "cell_type": "code",
      "metadata": {
        "colab": {
          "base_uri": "https://localhost:8080/",
          "height": 368
        },
        "id": "FZ3Au0M_cTQb",
        "outputId": "35444579-06fa-4b41-ef8d-38d2c537d6bd"
      },
      "source": [
        "# this will create a subplot figure with two plot side by side\n",
        "fig, ax = plt.subplots(1, 2, figsize=(15, 5))\n",
        "# first plot the data for females by \n",
        "# slicing/filtering the train data with 'female'\n",
        "sns.boxplot(x=\"Survived\", y=\"Age\", data=train[train.Sex == 'female'], ax=ax[0])\n",
        "# second plot the data for males by slicing the train data with 'male'\n",
        "# don't forget to set the ax to ax[1]\n",
        "sns.boxplot(x=\"Survived\", y=\"Age\", data=train[train.Sex == 'male'], ax=ax[1])\n",
        "plt.legend()"
      ],
      "execution_count": null,
      "outputs": [
        {
          "output_type": "stream",
          "text": [
            "No handles with labels found to put in legend.\n"
          ],
          "name": "stderr"
        },
        {
          "output_type": "execute_result",
          "data": {
            "text/plain": [
              "<matplotlib.legend.Legend at 0x7f7386205390>"
            ]
          },
          "metadata": {
            "tags": []
          },
          "execution_count": 28
        },
        {
          "output_type": "display_data",
          "data": {
            "image/png": "[encoded data removed]",
            "text/plain": [
              "<Figure size 1080x360 with 2 Axes>"
            ]
          },
          "metadata": {
            "tags": [],
            "needs_background": "light"
          }
        }
      ]
    },
    {
      "cell_type": "markdown",
      "metadata": {
        "id": "KDcCJd0HcTQd"
      },
      "source": [
        "You should now see that both gender groups have an overlapping age range regarding survived and not survived passengers."
      ]
    },
    {
      "cell_type": "markdown",
      "metadata": {
        "id": "iX3H1gYwcTQe"
      },
      "source": [
        "### visualize and clean data: Pclass"
      ]
    },
    {
      "cell_type": "markdown",
      "metadata": {
        "id": "cAV5Dx-HcTQg"
      },
      "source": [
        "Recall that Pclass holds the information about the class each passenger had with 1 = first class, 2 = middle class and 3 = low class. Let's find out how the survival rate is distributed over the different classes."
      ]
    },
    {
      "cell_type": "code",
      "metadata": {
        "colab": {
          "base_uri": "https://localhost:8080/",
          "height": 296
        },
        "id": "bEg-oAzLcTQi",
        "outputId": "51dba07a-36e2-4ea4-e47c-c020bd4bbb92"
      },
      "source": [
        "# use seaborns barplot function to plot the information of Pclass against Survived\n",
        "sns.barplot(y= 'Survived', x = 'Pclass', data = train)"
      ],
      "execution_count": null,
      "outputs": [
        {
          "output_type": "execute_result",
          "data": {
            "text/plain": [
              "<matplotlib.axes._subplots.AxesSubplot at 0x7f73854ccb50>"
            ]
          },
          "metadata": {
            "tags": []
          },
          "execution_count": 68
        },
        {
          "output_type": "display_data",
          "data": {
            "image/png": "[encoded data removed]",
            "text/plain": [
              "<Figure size 432x288 with 1 Axes>"
            ]
          },
          "metadata": {
            "tags": [],
            "needs_background": "light"
          }
        }
      ]
    },
    {
      "cell_type": "markdown",
      "metadata": {
        "id": "Iy2iUCNXcTQm"
      },
      "source": [
        "Did you anticipate the result? More people from the first class survived than from the second class and from the second class more people survived than from the thrid class.\n",
        "\n",
        "What does this distribution look like if we make the same analysis but differentiate between the two genders. You can do this by using the \"hue\" parameter of the barplot function in seaborn:"
      ]
    },
    {
      "cell_type": "code",
      "metadata": {
        "colab": {
          "base_uri": "https://localhost:8080/",
          "height": 296
        },
        "id": "s52toJt5cTQn",
        "outputId": "977f5f59-09fb-43a2-b47b-2075530577ff"
      },
      "source": [
        "# create a barplot with sex plotted against survived and set hue to 'Pclass'\n",
        "sns.barplot(x = 'Sex', y ='Survived',data = train , hue='Pclass')"
      ],
      "execution_count": null,
      "outputs": [
        {
          "output_type": "execute_result",
          "data": {
            "text/plain": [
              "<matplotlib.axes._subplots.AxesSubplot at 0x7f738606ef10>"
            ]
          },
          "metadata": {
            "tags": []
          },
          "execution_count": 32
        },
        {
          "output_type": "display_data",
          "data": {
            "image/png": "[encoded data removed]",
            "text/plain": [
              "<Figure size 432x288 with 1 Axes>"
            ]
          },
          "metadata": {
            "tags": [],
            "needs_background": "light"
          }
        }
      ]
    },
    {
      "cell_type": "markdown",
      "metadata": {
        "id": "R1EdTBLwcTQu"
      },
      "source": [
        "You should see a plot where each, male and female, have three bars representing the three different classes. \n",
        "\n",
        "Now we don't see a linear decline in survived passengers acrose the different classes. What you can see instead is that much more men from the first class survived. In contrast the percentage of survived women in the first and second class is nearly the same and much higher than the survival rate of the third class."
      ]
    },
    {
      "cell_type": "markdown",
      "metadata": {
        "id": "xleeNmhHcTQu"
      },
      "source": [
        "### clean data: Embarked and Cabin\n",
        "Let's also clean the embarked and cabin column since it also has nan values:"
      ]
    },
    {
      "cell_type": "code",
      "metadata": {
        "colab": {
          "base_uri": "https://localhost:8080/"
        },
        "id": "zVCMJ9e-cTQw",
        "outputId": "77693d59-b278-4c60-9669-430ade25c415"
      },
      "source": [
        "train.isnull().sum()"
      ],
      "execution_count": null,
      "outputs": [
        {
          "output_type": "execute_result",
          "data": {
            "text/plain": [
              "PassengerId      0\n",
              "Survived         0\n",
              "Pclass           0\n",
              "Name             0\n",
              "Sex              0\n",
              "Age              0\n",
              "SibSp            0\n",
              "Parch            0\n",
              "Ticket           0\n",
              "Fare             0\n",
              "Cabin          687\n",
              "Embarked         2\n",
              "dtype: int64"
            ]
          },
          "metadata": {
            "tags": []
          },
          "execution_count": 33
        }
      ]
    },
    {
      "cell_type": "markdown",
      "metadata": {
        "id": "y_70tRmXcTQ1"
      },
      "source": [
        "the embarked column has some missing value. Fill those with the most occurred value ('S')."
      ]
    },
    {
      "cell_type": "code",
      "metadata": {
        "colab": {
          "base_uri": "https://localhost:8080/"
        },
        "id": "Y_Q7XxmjcTQ4",
        "outputId": "dd615727-8c39-4998-b405-9291f8b77973"
      },
      "source": [
        "# use the fillna method to replace the nan's with 'S'\n",
        "train['Embarked'] = train['Embarked'].fillna('S')\n",
        "train['Embarked'].isnull().sum()"
      ],
      "execution_count": null,
      "outputs": [
        {
          "output_type": "execute_result",
          "data": {
            "text/plain": [
              "0"
            ]
          },
          "metadata": {
            "tags": []
          },
          "execution_count": 35
        }
      ]
    },
    {
      "cell_type": "markdown",
      "metadata": {
        "id": "XL58dMLLcTQ8"
      },
      "source": [
        "The cabin column has too many missing values (687 out of 891). Thus it is hard to replace the nan values with something meaningful. That's why we can just drop the column"
      ]
    },
    {
      "cell_type": "code",
      "metadata": {
        "colab": {
          "base_uri": "https://localhost:8080/",
          "height": 419
        },
        "id": "8Eh3sSv4cTRC",
        "outputId": "310f92e2-525e-4086-b1de-7c37cf2ba983"
      },
      "source": [
        "# drop the cabin column\n",
        "# train.drop(['Cabin'],axis = 1)\n",
        "train"
      ],
      "execution_count": null,
      "outputs": [
        {
          "output_type": "execute_result",
          "data": {
            "text/html": [
              "<div>\n",
              "<style scoped>\n",
              "    .dataframe tbody tr th:only-of-type {\n",
              "        vertical-align: middle;\n",
              "    }\n",
              "\n",
              "    .dataframe tbody tr th {\n",
              "        vertical-align: top;\n",
              "    }\n",
              "\n",
              "    .dataframe thead th {\n",
              "        text-align: right;\n",
              "    }\n",
              "</style>\n",
              "<table border=\"1\" class=\"dataframe\">\n",
              "  <thead>\n",
              "    <tr style=\"text-align: right;\">\n",
              "      <th></th>\n",
              "      <th>PassengerId</th>\n",
              "      <th>Survived</th>\n",
              "      <th>Pclass</th>\n",
              "      <th>Name</th>\n",
              "      <th>Sex</th>\n",
              "      <th>Age</th>\n",
              "      <th>SibSp</th>\n",
              "      <th>Parch</th>\n",
              "      <th>Ticket</th>\n",
              "      <th>Fare</th>\n",
              "      <th>Embarked</th>\n",
              "    </tr>\n",
              "  </thead>\n",
              "  <tbody>\n",
              "    <tr>\n",
              "      <th>0</th>\n",
              "      <td>1</td>\n",
              "      <td>0</td>\n",
              "      <td>3</td>\n",
              "      <td>Braund, Mr. Owen Harris</td>\n",
              "      <td>male</td>\n",
              "      <td>22.0</td>\n",
              "      <td>1</td>\n",
              "      <td>0</td>\n",
              "      <td>A/5 21171</td>\n",
              "      <td>7.2500</td>\n",
              "      <td>S</td>\n",
              "    </tr>\n",
              "    <tr>\n",
              "      <th>1</th>\n",
              "      <td>2</td>\n",
              "      <td>1</td>\n",
              "      <td>1</td>\n",
              "      <td>Cumings, Mrs. John Bradley (Florence Briggs Th...</td>\n",
              "      <td>female</td>\n",
              "      <td>38.0</td>\n",
              "      <td>1</td>\n",
              "      <td>0</td>\n",
              "      <td>PC 17599</td>\n",
              "      <td>71.2833</td>\n",
              "      <td>C</td>\n",
              "    </tr>\n",
              "    <tr>\n",
              "      <th>2</th>\n",
              "      <td>3</td>\n",
              "      <td>1</td>\n",
              "      <td>3</td>\n",
              "      <td>Heikkinen, Miss. Laina</td>\n",
              "      <td>female</td>\n",
              "      <td>26.0</td>\n",
              "      <td>0</td>\n",
              "      <td>0</td>\n",
              "      <td>STON/O2. 3101282</td>\n",
              "      <td>7.9250</td>\n",
              "      <td>S</td>\n",
              "    </tr>\n",
              "    <tr>\n",
              "      <th>3</th>\n",
              "      <td>4</td>\n",
              "      <td>1</td>\n",
              "      <td>1</td>\n",
              "      <td>Futrelle, Mrs. Jacques Heath (Lily May Peel)</td>\n",
              "      <td>female</td>\n",
              "      <td>35.0</td>\n",
              "      <td>1</td>\n",
              "      <td>0</td>\n",
              "      <td>113803</td>\n",
              "      <td>53.1000</td>\n",
              "      <td>S</td>\n",
              "    </tr>\n",
              "    <tr>\n",
              "      <th>4</th>\n",
              "      <td>5</td>\n",
              "      <td>0</td>\n",
              "      <td>3</td>\n",
              "      <td>Allen, Mr. William Henry</td>\n",
              "      <td>male</td>\n",
              "      <td>35.0</td>\n",
              "      <td>0</td>\n",
              "      <td>0</td>\n",
              "      <td>373450</td>\n",
              "      <td>8.0500</td>\n",
              "      <td>S</td>\n",
              "    </tr>\n",
              "    <tr>\n",
              "      <th>...</th>\n",
              "      <td>...</td>\n",
              "      <td>...</td>\n",
              "      <td>...</td>\n",
              "      <td>...</td>\n",
              "      <td>...</td>\n",
              "      <td>...</td>\n",
              "      <td>...</td>\n",
              "      <td>...</td>\n",
              "      <td>...</td>\n",
              "      <td>...</td>\n",
              "      <td>...</td>\n",
              "    </tr>\n",
              "    <tr>\n",
              "      <th>886</th>\n",
              "      <td>887</td>\n",
              "      <td>0</td>\n",
              "      <td>2</td>\n",
              "      <td>Montvila, Rev. Juozas</td>\n",
              "      <td>male</td>\n",
              "      <td>27.0</td>\n",
              "      <td>0</td>\n",
              "      <td>0</td>\n",
              "      <td>211536</td>\n",
              "      <td>13.0000</td>\n",
              "      <td>S</td>\n",
              "    </tr>\n",
              "    <tr>\n",
              "      <th>887</th>\n",
              "      <td>888</td>\n",
              "      <td>1</td>\n",
              "      <td>1</td>\n",
              "      <td>Graham, Miss. Margaret Edith</td>\n",
              "      <td>female</td>\n",
              "      <td>19.0</td>\n",
              "      <td>0</td>\n",
              "      <td>0</td>\n",
              "      <td>112053</td>\n",
              "      <td>30.0000</td>\n",
              "      <td>S</td>\n",
              "    </tr>\n",
              "    <tr>\n",
              "      <th>888</th>\n",
              "      <td>889</td>\n",
              "      <td>0</td>\n",
              "      <td>3</td>\n",
              "      <td>Johnston, Miss. Catherine Helen \"Carrie\"</td>\n",
              "      <td>female</td>\n",
              "      <td>35.0</td>\n",
              "      <td>1</td>\n",
              "      <td>2</td>\n",
              "      <td>W./C. 6607</td>\n",
              "      <td>23.4500</td>\n",
              "      <td>S</td>\n",
              "    </tr>\n",
              "    <tr>\n",
              "      <th>889</th>\n",
              "      <td>890</td>\n",
              "      <td>1</td>\n",
              "      <td>1</td>\n",
              "      <td>Behr, Mr. Karl Howell</td>\n",
              "      <td>male</td>\n",
              "      <td>26.0</td>\n",
              "      <td>0</td>\n",
              "      <td>0</td>\n",
              "      <td>111369</td>\n",
              "      <td>30.0000</td>\n",
              "      <td>C</td>\n",
              "    </tr>\n",
              "    <tr>\n",
              "      <th>890</th>\n",
              "      <td>891</td>\n",
              "      <td>0</td>\n",
              "      <td>3</td>\n",
              "      <td>Dooley, Mr. Patrick</td>\n",
              "      <td>male</td>\n",
              "      <td>32.0</td>\n",
              "      <td>0</td>\n",
              "      <td>0</td>\n",
              "      <td>370376</td>\n",
              "      <td>7.7500</td>\n",
              "      <td>Q</td>\n",
              "    </tr>\n",
              "  </tbody>\n",
              "</table>\n",
              "<p>891 rows × 11 columns</p>\n",
              "</div>"
            ],
            "text/plain": [
              "     PassengerId  Survived  Pclass  ...            Ticket     Fare  Embarked\n",
              "0              1         0       3  ...         A/5 21171   7.2500         S\n",
              "1              2         1       1  ...          PC 17599  71.2833         C\n",
              "2              3         1       3  ...  STON/O2. 3101282   7.9250         S\n",
              "3              4         1       1  ...            113803  53.1000         S\n",
              "4              5         0       3  ...            373450   8.0500         S\n",
              "..           ...       ...     ...  ...               ...      ...       ...\n",
              "886          887         0       2  ...            211536  13.0000         S\n",
              "887          888         1       1  ...            112053  30.0000         S\n",
              "888          889         0       3  ...        W./C. 6607  23.4500         S\n",
              "889          890         1       1  ...            111369  30.0000         C\n",
              "890          891         0       3  ...            370376   7.7500         Q\n",
              "\n",
              "[891 rows x 11 columns]"
            ]
          },
          "metadata": {
            "tags": []
          },
          "execution_count": 50
        }
      ]
    },
    {
      "cell_type": "markdown",
      "metadata": {
        "id": "X2WhNtJ1cTRF"
      },
      "source": [
        "Let's check once more if everything is clean"
      ]
    },
    {
      "cell_type": "code",
      "metadata": {
        "colab": {
          "base_uri": "https://localhost:8080/"
        },
        "id": "WkCWLaf5cTRG",
        "outputId": "11d5cb94-ca48-4df3-953b-6966aaa7ec0d"
      },
      "source": [
        "train.isnull().sum()"
      ],
      "execution_count": null,
      "outputs": [
        {
          "output_type": "execute_result",
          "data": {
            "text/plain": [
              "PassengerId    0\n",
              "Survived       0\n",
              "Pclass         0\n",
              "Name           0\n",
              "Sex            0\n",
              "Age            0\n",
              "SibSp          0\n",
              "Parch          0\n",
              "Ticket         0\n",
              "Fare           0\n",
              "Embarked       0\n",
              "dtype: int64"
            ]
          },
          "metadata": {
            "tags": []
          },
          "execution_count": 48
        }
      ]
    },
    {
      "cell_type": "markdown",
      "metadata": {
        "id": "BaopGs24cTRJ"
      },
      "source": [
        "YAHOO!!! You successfully managed to clean the dataframe."
      ]
    },
    {
      "cell_type": "markdown",
      "metadata": {
        "id": "-fIV_1rrcTRK"
      },
      "source": [
        "### create new feature\n",
        "Besides analysing features in a dataset the task of a good data scientist is also to use the existing dataset to come up with new features. This it not an easy task but it is a task where you can be very creative. What do yo think could be another interesing feature? You can scroll to the describtion of the dataset if you want to remind yourself what other information is stored in the dataframe and what you could use to create new features. \n",
        "\n",
        "If you don't want to because you are busy and need to finish this notebook fast, here are some suggestens we are going to look at :) \n",
        "\n",
        "1. family size \n",
        "2. alone\n",
        "\n",
        "but feel free to also try out your own ideas."
      ]
    },
    {
      "cell_type": "code",
      "metadata": {
        "id": "en44i-WBcTRL"
      },
      "source": [
        ""
      ],
      "execution_count": null,
      "outputs": []
    },
    {
      "cell_type": "markdown",
      "metadata": {
        "id": "3Xf11vV_cTRN"
      },
      "source": [
        "### new feature: family size\n",
        "With the number of siblings/spouses from the column SibSp and the number of children/parents from the Parch column we can create a new feature called family size. "
      ]
    },
    {
      "cell_type": "code",
      "metadata": {
        "id": "1f4AvEsRcTRP"
      },
      "source": [
        "# create the family size feature by adding the SibSp and Parch columns\n",
        "# (don't forget to add 1 because the person with the family is also a member of the family)\n",
        "train['FamilySize'] = train['SibSp']+train['Parch']"
      ],
      "execution_count": null,
      "outputs": []
    },
    {
      "cell_type": "markdown",
      "metadata": {
        "id": "q7gjDXVDcTRV"
      },
      "source": [
        "Great! You now created the FamilySize feature. Let's have a look at the question if bigger or smaller families survived."
      ]
    },
    {
      "cell_type": "code",
      "metadata": {
        "colab": {
          "base_uri": "https://localhost:8080/",
          "height": 296
        },
        "id": "6qIbJW3ocTRY",
        "outputId": "7e1d4ec0-e29e-4aba-db16-a668a7bcf87b"
      },
      "source": [
        "# use a boxplot and plot Survived against FamilySize \n",
        "# use the train dataframe as data input into the boxplot method\n",
        "sns.boxplot( x = 'Survived', y='FamilySize', data = train)"
      ],
      "execution_count": null,
      "outputs": [
        {
          "output_type": "execute_result",
          "data": {
            "text/plain": [
              "<matplotlib.axes._subplots.AxesSubplot at 0x7f738536cb90>"
            ]
          },
          "metadata": {
            "tags": []
          },
          "execution_count": 70
        },
        {
          "output_type": "display_data",
          "data": {
            "image/png": "[encoded data removed]",
            "text/plain": [
              "<Figure size 432x288 with 1 Axes>"
            ]
          },
          "metadata": {
            "tags": [],
            "needs_background": "light"
          }
        }
      ]
    },
    {
      "cell_type": "markdown",
      "metadata": {
        "id": "D-i7o9qycTRh"
      },
      "source": [
        "you should see that both boxplots have an overlap but the the family sizes of survived passengers are distributed over a larger range. Does this mean that bigger families had a bigger chance to survive?"
      ]
    },
    {
      "cell_type": "markdown",
      "metadata": {
        "id": "vqXo-RuJcTRh"
      },
      "source": [
        "### new feature: is alone"
      ]
    },
    {
      "cell_type": "markdown",
      "metadata": {
        "id": "6yCeWIuPcTRi"
      },
      "source": [
        "In the last section you successfully created a new feature called FamilySize. Now you can leverage that feature to create another one. This time you will create the \"is alone\" feature. This will denote if a passenger was alone on the ship (= 1) or if he was there with his family (= 0)."
      ]
    },
    {
      "cell_type": "code",
      "metadata": {
        "colab": {
          "base_uri": "https://localhost:8080/"
        },
        "id": "OyjN1cXwcTRk",
        "outputId": "d8646bd5-43f0-4ac8-c6b3-d18ad576011e"
      },
      "source": [
        "# create a IsAlone column (1 = is alone, 0 = is not alone).\n",
        "# first create the column and set it so 0\n",
        "train['IsAlone'] = 0\n",
        "# now filter the dataframe and set IsAlone to 1 where FamilySize is equal to 1\n",
        "train.loc[train['FamilySize'] == 1,'IsAlone'] = 1\n",
        "train['IsAlone']"
      ],
      "execution_count": null,
      "outputs": [
        {
          "output_type": "execute_result",
          "data": {
            "text/plain": [
              "0      1\n",
              "1      1\n",
              "2      0\n",
              "3      1\n",
              "4      0\n",
              "      ..\n",
              "886    0\n",
              "887    0\n",
              "888    0\n",
              "889    0\n",
              "890    0\n",
              "Name: IsAlone, Length: 891, dtype: int64"
            ]
          },
          "metadata": {
            "tags": []
          },
          "execution_count": 62
        }
      ]
    },
    {
      "cell_type": "markdown",
      "metadata": {
        "id": "hU2-ZuwNcTRp"
      },
      "source": [
        "Now check how many passengers survived who were alone and how many survived who were not alone"
      ]
    },
    {
      "cell_type": "code",
      "metadata": {
        "colab": {
          "base_uri": "https://localhost:8080/",
          "height": 296
        },
        "id": "ui74bSmzcTRs",
        "outputId": "ab79289b-0d61-4c48-931c-4775de45886c"
      },
      "source": [
        "# use a barplot again and plot the IsAlone column against the Survived column\n",
        "sns.barplot(y = 'Survived', x = 'IsAlone', data = train)"
      ],
      "execution_count": null,
      "outputs": [
        {
          "output_type": "execute_result",
          "data": {
            "text/plain": [
              "<matplotlib.axes._subplots.AxesSubplot at 0x7f738524bf90>"
            ]
          },
          "metadata": {
            "tags": []
          },
          "execution_count": 72
        },
        {
          "output_type": "display_data",
          "data": {
            "image/png": "[encoded data removed]",
            "text/plain": [
              "<Figure size 432x288 with 1 Axes>"
            ]
          },
          "metadata": {
            "tags": [],
            "needs_background": "light"
          }
        }
      ]
    },
    {
      "cell_type": "markdown",
      "metadata": {
        "id": "_OJbqQBZcTRv"
      },
      "source": [
        "You should see that approximately 50% of passengers survived who were not alone and that sadly only 30 of lone passengers survived.\n",
        "\n",
        "Since we now have a lot of interesting features, we can also ask and analyse interesting questions. For example we saw that more women than men survived and that inside both groups the age wasn't a big differentiator. But what do you think? Did more lone women than not lone women survive? And how did being alone affect the men?\n",
        "\n",
        "To answer this you can again use a barplot."
      ]
    },
    {
      "cell_type": "code",
      "metadata": {
        "colab": {
          "base_uri": "https://localhost:8080/",
          "height": 296
        },
        "id": "hpCG9xAXcTRv",
        "scrolled": false,
        "outputId": "5067b66d-4b89-4754-b541-d6a15ed3362e"
      },
      "source": [
        "# use seaborns barplot function and plot Sex against Survived\n",
        "# and set the hue to IsAlone\n",
        "sns.barplot( x ='Sex', y = 'Survived', hue= 'IsAlone', data = train)"
      ],
      "execution_count": null,
      "outputs": [
        {
          "output_type": "execute_result",
          "data": {
            "text/plain": [
              "<matplotlib.axes._subplots.AxesSubplot at 0x7f738522dc90>"
            ]
          },
          "metadata": {
            "tags": []
          },
          "execution_count": 76
        },
        {
          "output_type": "display_data",
          "data": {
            "image/png": "[encoded data removed]",
            "text/plain": [
              "<Figure size 432x288 with 1 Axes>"
            ]
          },
          "metadata": {
            "tags": [],
            "needs_background": "light"
          }
        }
      ]
    },
    {
      "cell_type": "markdown",
      "metadata": {
        "id": "X0Ol6Vw-cTRy"
      },
      "source": [
        "You should now see that being alone affected the genders and their change of survival differently. More lone females survived the titanic accident but in contast more lone males died in the titanic accident."
      ]
    },
    {
      "cell_type": "markdown",
      "metadata": {
        "id": "JuIQnWn7cTRz"
      },
      "source": [
        "## machine learning model\n",
        "If you reached this part - well done :) you should now be very good at cleaning, investigating and visualizing data. This part is an outlook for you. Cleaning data is a very important if not the most important part of every data sience project.\n",
        "\n",
        "Here you will see a model trained on your cleaned data. Don't be confused or anything if you don't understand what is happening below. Again, this is just an outlook for what you will learn during your TechLabs Track. At the end of the semester you will be able to wirte the same machine learning model and even more complex ones. Thus this part is here to motivate you and to show you that your data science journey has just started :)"
      ]
    },
    {
      "cell_type": "code",
      "metadata": {
        "colab": {
          "base_uri": "https://localhost:8080/",
          "height": 367
        },
        "id": "R5iSvUJNcTR0",
        "outputId": "71f9c59b-936d-40e1-ad82-770219170ab6"
      },
      "source": [
        "from sklearn.model_selection import train_test_split\n",
        "from data_set_helper import dataset\n",
        "\n",
        "# split the dataset in training and testing data. This is a important step in\n",
        "# every machine learning project. But you will learn about this in detail in\n",
        "# your curriculum videos and exercises\n",
        "X = train.loc[:, train.columns != 'Survived']\n",
        "y = train.loc[:, 'Survived']\n",
        "X_train, X_test, y_train, y_test = train_test_split(\n",
        "    X, y, test_size=0.2, random_state=0\n",
        ")\n",
        "\n",
        "# we will create a dataset object and store the\n",
        "# training data in it\n",
        "ds = dataset(X_train)\n",
        "# we will run the preparation pipeline to\n",
        "# clean the data so that it can be used in a\n",
        "# machine learning model\n",
        "ds.preparation_pipeline('train')\n",
        "\n",
        "# we will do the same for the test dataset\n",
        "ds.add_dataset('test', X_test)\n",
        "ds.preparation_pipeline('test')"
      ],
      "execution_count": null,
      "outputs": [
        {
          "output_type": "error",
          "ename": "ModuleNotFoundError",
          "evalue": "ignored",
          "traceback": [
            "\u001b[0;31m---------------------------------------------------------------------------\u001b[0m",
            "\u001b[0;31mModuleNotFoundError\u001b[0m                       Traceback (most recent call last)",
            "\u001b[0;32m<ipython-input-77-7755be9f68f0>\u001b[0m in \u001b[0;36m<module>\u001b[0;34m()\u001b[0m\n\u001b[1;32m      1\u001b[0m \u001b[0;32mfrom\u001b[0m \u001b[0msklearn\u001b[0m\u001b[0;34m.\u001b[0m\u001b[0mmodel_selection\u001b[0m \u001b[0;32mimport\u001b[0m \u001b[0mtrain_test_split\u001b[0m\u001b[0;34m\u001b[0m\u001b[0;34m\u001b[0m\u001b[0m\n\u001b[0;32m----> 2\u001b[0;31m \u001b[0;32mfrom\u001b[0m \u001b[0mdata_set_helper\u001b[0m \u001b[0;32mimport\u001b[0m \u001b[0mdataset\u001b[0m\u001b[0;34m\u001b[0m\u001b[0;34m\u001b[0m\u001b[0m\n\u001b[0m\u001b[1;32m      3\u001b[0m \u001b[0;34m\u001b[0m\u001b[0m\n\u001b[1;32m      4\u001b[0m \u001b[0;31m# split the dataset in training and testing data. This is a important step in\u001b[0m\u001b[0;34m\u001b[0m\u001b[0;34m\u001b[0m\u001b[0;34m\u001b[0m\u001b[0m\n\u001b[1;32m      5\u001b[0m \u001b[0;31m# every machine learning project. But you will learn about this in detail in\u001b[0m\u001b[0;34m\u001b[0m\u001b[0;34m\u001b[0m\u001b[0;34m\u001b[0m\u001b[0m\n",
            "\u001b[0;31mModuleNotFoundError\u001b[0m: No module named 'data_set_helper'",
            "",
            "\u001b[0;31m---------------------------------------------------------------------------\u001b[0;32m\nNOTE: If your import is failing due to a missing package, you can\nmanually install dependencies using either !pip or !apt.\n\nTo view examples of installing some common dependencies, click the\n\"Open Examples\" button below.\n\u001b[0;31m---------------------------------------------------------------------------\u001b[0m\n"
          ]
        }
      ]
    },
    {
      "cell_type": "markdown",
      "metadata": {
        "id": "FtyZAzdXcTR3"
      },
      "source": [
        "As an example we use a machine learning model called K-Nearest-Neighbors, which you will learn about in your curriculum"
      ]
    },
    {
      "cell_type": "code",
      "metadata": {
        "id": "N8zxBD3EcTR4"
      },
      "source": [
        "from sklearn.neighbors import KNeighborsClassifier\n",
        "from sklearn.metrics import make_scorer, accuracy_score\n",
        "from sklearn.model_selection import GridSearchCV\n",
        "\n",
        "knn_clf = KNeighborsClassifier()\n",
        "\n",
        "parameters_knn = {\n",
        "    \"n_neighbors\": [x for x in range(1,15)],\n",
        "    \"weights\": [\"uniform\", \"distance\"], \n",
        "    \"algorithm\": [\"auto\", \"ball_tree\", \"kd_tree\"],\n",
        "    \"leaf_size\": [20, 30, 50]}\n",
        "\n",
        "grid_knn = GridSearchCV(knn_clf, parameters_knn, scoring=make_scorer(accuracy_score))\n",
        "grid_knn.fit(ds.data['train'], y_train)\n",
        "\n",
        "knn_clf = grid_knn.best_estimator_\n",
        "\n",
        "knn_clf.fit(ds.data['train'], y_train)\n",
        "pred_knn = knn_clf.predict(ds.data['test'])\n",
        "acc_knn = accuracy_score(y_test, pred_knn)\n",
        "\n",
        "print(\"The Score for KNeighbors is: \" + str(acc_knn))"
      ],
      "execution_count": null,
      "outputs": []
    },
    {
      "cell_type": "markdown",
      "metadata": {
        "id": "B8U0GsfDcTR9"
      },
      "source": [
        "The score means that our created model has an accuracy of approximately 80%, thus it predicts 80% correctly of whether a passenger survived or didn't survive.\n",
        "\n",
        "Such models can be used on tragic events, as the titanic accident, to get clues on missing passengers and how likely it is that they survived. \n",
        "\n",
        "If you want, you can enter your data below to see whether you would have survived."
      ]
    },
    {
      "cell_type": "code",
      "metadata": {
        "id": "KDTs7gL3cTR_",
        "scrolled": true
      },
      "source": [
        "# enter a class of your choise (1, 2 or 3)\n",
        "pclass = 1\n",
        "# enter your sex\n",
        "sex = 'male'\n",
        "# enter your age\n",
        "age = 30\n",
        "# enter the number of siblings\n",
        "sibsp = 1\n",
        "# enter the number of parents\n",
        "parch = 2\n",
        "# enter your name\n",
        "name = 'kemal'\n",
        "\n",
        "my_data = pd.DataFrame({\n",
        "    'Pclass': [pclass],\n",
        "    'Sex': sex,\n",
        "    'Age': age,\n",
        "    'SibSp': sibsp,\n",
        "    'Parch': parch,\n",
        "    'Fare': 32.20,\n",
        "    'Embarked': 'S',\n",
        "    'Cabin': 'x',\n",
        "    'Name': name,\n",
        "    'PassengerId': 123,\n",
        "    'Ticket': 123\n",
        "})\n",
        "\n",
        "ds.add_dataset('my_data', my_data)\n",
        "ds.preparation_pipeline('my_data')\n",
        "sur = knn_clf.predict(ds.data['my_data'])\n",
        "if sur == 0:\n",
        "    print(\"you wouldn't have survived\")\n",
        "elif sur == 1:\n",
        "    print(\"you would have survived\")"
      ],
      "execution_count": null,
      "outputs": []
    },
    {
      "cell_type": "code",
      "metadata": {
        "id": "4BewNzfEcTSD"
      },
      "source": [
        ""
      ],
      "execution_count": null,
      "outputs": []
    }
  ]
}