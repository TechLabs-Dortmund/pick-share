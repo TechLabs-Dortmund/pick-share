{
  "nbformat": 4,
  "nbformat_minor": 0,
  "metadata": {
    "colab": {
      "name": "Pickshare.ipynb",
      "provenance": [],
      "collapsed_sections": [],
      "authorship_tag": "ABX9TyODGdAzKlrQPrhYg8xrzXia",
      "include_colab_link": true
    },
    "kernelspec": {
      "name": "python3",
      "display_name": "Python 3"
    },
    "language_info": {
      "name": "python"
    }
  },
  "cells": [
    {
      "cell_type": "markdown",
      "metadata": {
        "id": "view-in-github",
        "colab_type": "text"
      },
      "source": [
        "<a href=\"https://colab.research.google.com/github/tramyynt/Techlabs/blob/master/Pickshare.ipynb\" target=\"_parent\"><img src=\"https://colab.research.google.com/assets/colab-badge.svg\" alt=\"Open In Colab\"/></a>"
      ]
    },
    {
      "cell_type": "code",
      "metadata": {
        "id": "4g8RxwJ9DjxR"
      },
      "source": [
        "import pandas as pd\n",
        "import json\n",
        "import os\n",
        "import numpy as np\n",
        "\n",
        "import matplotlib.pyplot as plt\n",
        "import seaborn as sns\n",
        "import plotly.graph_objects as go\n",
        "\n",
        "from google.colab import drive"
      ],
      "execution_count": 78,
      "outputs": []
    },
    {
      "cell_type": "code",
      "metadata": {
        "colab": {
          "base_uri": "https://localhost:8080/"
        },
        "id": "aeqhYfADGT4A",
        "outputId": "e91546ec-1363-42fa-a14d-c3c59e7e83da"
      },
      "source": [
        "drive.mount('/drive')"
      ],
      "execution_count": 3,
      "outputs": [
        {
          "output_type": "stream",
          "text": [
            "Mounted at /drive\n"
          ],
          "name": "stdout"
        }
      ]
    },
    {
      "cell_type": "code",
      "metadata": {
        "colab": {
          "base_uri": "https://localhost:8080/",
          "height": 204
        },
        "id": "wCRXYwDqH4cy",
        "outputId": "14decf44-ff04-45a6-ea15-6f9c5ec94996"
      },
      "source": [
        "users = pd.read_json('/drive/MyDrive/Techlabs/pickshare_users.json')\n",
        "# users.head(5)\n",
        "packages = pd.read_json('/drive/MyDrive/Techlabs/pickshare_packages.json')\n",
        "packages.head(5)"
      ],
      "execution_count": 4,
      "outputs": [
        {
          "output_type": "execute_result",
          "data": {
            "text/html": [
              "<div>\n",
              "<style scoped>\n",
              "    .dataframe tbody tr th:only-of-type {\n",
              "        vertical-align: middle;\n",
              "    }\n",
              "\n",
              "    .dataframe tbody tr th {\n",
              "        vertical-align: top;\n",
              "    }\n",
              "\n",
              "    .dataframe thead th {\n",
              "        text-align: right;\n",
              "    }\n",
              "</style>\n",
              "<table border=\"1\" class=\"dataframe\">\n",
              "  <thead>\n",
              "    <tr style=\"text-align: right;\">\n",
              "      <th></th>\n",
              "      <th>senderCompanyName</th>\n",
              "      <th>city</th>\n",
              "      <th>_owner</th>\n",
              "    </tr>\n",
              "  </thead>\n",
              "  <tbody>\n",
              "    <tr>\n",
              "      <th>0</th>\n",
              "      <td>Amazon</td>\n",
              "      <td>Dortmund</td>\n",
              "      <td>Björn</td>\n",
              "    </tr>\n",
              "    <tr>\n",
              "      <th>1</th>\n",
              "      <td>Zoo Royal</td>\n",
              "      <td>Berlin</td>\n",
              "      <td>Pia</td>\n",
              "    </tr>\n",
              "    <tr>\n",
              "      <th>2</th>\n",
              "      <td>ABOUTYOU</td>\n",
              "      <td>Dortmund</td>\n",
              "      <td>Björn</td>\n",
              "    </tr>\n",
              "    <tr>\n",
              "      <th>3</th>\n",
              "      <td>Test</td>\n",
              "      <td>Berlin</td>\n",
              "      <td>VTest</td>\n",
              "    </tr>\n",
              "    <tr>\n",
              "      <th>4</th>\n",
              "      <td>notebooksbilliger.de</td>\n",
              "      <td>Dortmund</td>\n",
              "      <td>Björn</td>\n",
              "    </tr>\n",
              "  </tbody>\n",
              "</table>\n",
              "</div>"
            ],
            "text/plain": [
              "      senderCompanyName      city _owner\n",
              "0                Amazon  Dortmund  Björn\n",
              "1             Zoo Royal    Berlin    Pia\n",
              "2              ABOUTYOU  Dortmund  Björn\n",
              "3                  Test    Berlin  VTest\n",
              "4  notebooksbilliger.de  Dortmund  Björn"
            ]
          },
          "metadata": {},
          "execution_count": 4
        }
      ]
    },
    {
      "cell_type": "code",
      "metadata": {
        "colab": {
          "base_uri": "https://localhost:8080/"
        },
        "id": "sjL2BGdCgkAP",
        "outputId": "62be2303-ba80-4e71-d4ac-cf98b2130291"
      },
      "source": [
        "print(packages['_owner'].describe())\n",
        "print(packages['city'].describe())\n",
        "print(users['firstName'].describe())\n",
        "print(users['city'].describe())"
      ],
      "execution_count": 4,
      "outputs": [
        {
          "output_type": "stream",
          "text": [
            "count        3408\n",
            "unique        100\n",
            "top       Karsten\n",
            "freq          252\n",
            "Name: _owner, dtype: object\n",
            "count       3362\n",
            "unique        39\n",
            "top       Berlin\n",
            "freq        2345\n",
            "Name: city, dtype: object\n",
            "count      257\n",
            "unique     209\n",
            "top       Test\n",
            "freq         5\n",
            "Name: firstName, dtype: object\n",
            "count        257\n",
            "unique        61\n",
            "top       Berlin\n",
            "freq         102\n",
            "Name: city, dtype: object\n"
          ],
          "name": "stdout"
        }
      ]
    },
    {
      "cell_type": "code",
      "metadata": {
        "colab": {
          "base_uri": "https://localhost:8080/"
        },
        "id": "q6u5fWq1hiy2",
        "outputId": "b657c92f-be62-4e20-b217-36db9023ed45"
      },
      "source": [
        "print(packages['senderCompanyName'].describe())"
      ],
      "execution_count": 5,
      "outputs": [
        {
          "output_type": "stream",
          "text": [
            "count       3408\n",
            "unique      1002\n",
            "top       Amazon\n",
            "freq        1055\n",
            "Name: senderCompanyName, dtype: object\n"
          ],
          "name": "stdout"
        }
      ]
    },
    {
      "cell_type": "markdown",
      "metadata": {
        "id": "-OlPdVq7KF1s"
      },
      "source": [
        "1. Cluster geospatial data to know where we should put a depot\n",
        "2. Cluster based on their total numbers of oders."
      ]
    },
    {
      "cell_type": "markdown",
      "metadata": {
        "id": "qh5hK3XwZcl7"
      },
      "source": [
        "### Data Preprocessing"
      ]
    },
    {
      "cell_type": "code",
      "metadata": {
        "id": "x18OYFBpkbWv"
      },
      "source": [
        "def  cleaning_text(df, col):\n",
        "  df.loc[df[col].str.contains('berlin', case=False, regex=False), col] = 'Berlin'\n",
        "  df.loc[df[col].str.contains('dortmund', case=False, regex=False), col] = 'Dortmund'\n",
        "  df.loc[df[col].str.contains('Potsdam', case=False, regex=False), col] = 'Potsdam'\n",
        "  df.loc[df[col].str.contains('Dusseldorf', case=False, regex=False), col] = 'Düsseldorf'\n",
        "  df.loc[df[col].str.contains('Regensburg', case=False, regex=False), col] = 'Regensburg'\n",
        "  df.loc[df[col].str.contains('Moenchengladbach', case = False, regex = False), col] = 'Mönchengladbach'\n",
        "  df.loc[df[col].str.contains('Bad Hersfeld', case = False, regex = False), col] = 'Bad Hersfeld'\n",
        "  df.loc[df[col].str.contains('Viersen', case = False, regex = False), col] = 'Viersen'\n",
        "  df.loc[df[col].str.contains('Münster', case = False, regex = False), col] = 'Münster'\n",
        "  df.loc[df[col].str.contains('mönchengladbach', case = False, regex = False), col] = 'Mönchengladbach'\n",
        "  df.loc[df[col].str.contains('Wetzlar', case = False, regex = False), col] = 'Wetzlar'\n",
        "  df.loc[df[col].str.contains('München', case = False, regex = False), col] = 'München'\n",
        "  return df"
      ],
      "execution_count": 72,
      "outputs": []
    },
    {
      "cell_type": "code",
      "metadata": {
        "id": "GIOVB-ZoZnWi"
      },
      "source": [
        "#packages\n",
        "#packages.isna().sum()\n",
        "packages = packages[packages.city.notna()].reset_index(drop=True) #remove missing values\n",
        "\n",
        "#cleaning text\n",
        "packages = cleaning_text(packages, 'city')"
      ],
      "execution_count": 62,
      "outputs": []
    },
    {
      "cell_type": "code",
      "metadata": {
        "id": "yxubENC6e9Fr"
      },
      "source": [
        "#users\n",
        "users = users[users.city.notna()].reset_index(drop = True)\n",
        "\n",
        "users = cleaning_text(users,'city')"
      ],
      "execution_count": 73,
      "outputs": []
    },
    {
      "cell_type": "code",
      "metadata": {
        "id": "YSJXQxxRvRix"
      },
      "source": [
        "#get city list of Germany and check if a city belongs to the list, otherwise remove it. Refer : https://moduliertersingvogel.de/2017/09/03/german-cities-list/\n",
        "from bs4 import BeautifulSoup\n",
        "import requests\n",
        "class CityList:\n",
        "    def __init__(self):\n",
        "        self.__countries={\n",
        "            'BY':'Bayern',\n",
        "            'BW':'Baden-Württemberg',\n",
        "            'NW':'Nordrhein-Westfalen',\n",
        "            'HE':'Hessen',\n",
        "            'SN':'Sachsen',\n",
        "            'NI':'Niedersachsen',\n",
        "            'RP':'Rheinland-Pfalz',\n",
        "            'TH':'Thüringen',\n",
        "            'BB':'Brandenburg',\n",
        "            'ST':'Sachsen-Anhalt',\n",
        "            'MV':'Mecklenburg-Vorpommern',\n",
        "            'SH':'Schleswig-Holstein',\n",
        "            'SL':'Saarland',\n",
        "            'HB':'Bremen',\n",
        "            'BE':'Berlin',\n",
        "            'HH':'Hamburg'\n",
        "        }\n",
        "        \n",
        "    def retrieveGermanList(self):\n",
        "        r = requests.get('https://de.wikipedia.org/wiki/Liste_der_St%C3%A4dte_in_Deutschland')\n",
        "        soup = BeautifulSoup(r.content, \"html5lib\")\n",
        "        cities={}\n",
        "        tables=soup.find_all('table')\n",
        "        for t in tables:\n",
        "            lis=t.find_all('dd')\n",
        "            for l in lis:\n",
        "                # All countries are in brackets after the city name.\n",
        "                # Some cities are listed like: SN, Landeshauptstadt\n",
        "                countryShort=None\n",
        "                additional=l.contents[1].split('(')[1].split(')')[0].strip()\n",
        "                if ',' in additional:\n",
        "                    countryShort=additional.split(',')[0]\n",
        "                else:\n",
        "                    countryShort=additional\n",
        "                cities[l.find('a').contents[0]]=self.__countries[countryShort]\n",
        "                \n",
        "        return cities\n",
        "\n",
        "city_list = CityList().retrieveGermanList()\n",
        "users = users[users['city'].isin(city_list.keys())]\n",
        "packages = packages[packages['city'].isin(city_list.keys())]"
      ],
      "execution_count": 111,
      "outputs": []
    },
    {
      "cell_type": "code",
      "metadata": {
        "colab": {
          "base_uri": "https://localhost:8080/",
          "height": 979
        },
        "id": "bIka1XbLZv-P",
        "outputId": "54712f1d-16f0-4847-f8f8-3adda29a2c86"
      },
      "source": [
        "users_per_city = users['city'].value_counts().to_frame().reset_index(drop = False)\n",
        "users_per_city.columns = ['city', 'number_users']\n",
        "users_per_city"
      ],
      "execution_count": 109,
      "outputs": [
        {
          "output_type": "execute_result",
          "data": {
            "text/html": [
              "<div>\n",
              "<style scoped>\n",
              "    .dataframe tbody tr th:only-of-type {\n",
              "        vertical-align: middle;\n",
              "    }\n",
              "\n",
              "    .dataframe tbody tr th {\n",
              "        vertical-align: top;\n",
              "    }\n",
              "\n",
              "    .dataframe thead th {\n",
              "        text-align: right;\n",
              "    }\n",
              "</style>\n",
              "<table border=\"1\" class=\"dataframe\">\n",
              "  <thead>\n",
              "    <tr style=\"text-align: right;\">\n",
              "      <th></th>\n",
              "      <th>city</th>\n",
              "      <th>number_users</th>\n",
              "    </tr>\n",
              "  </thead>\n",
              "  <tbody>\n",
              "    <tr>\n",
              "      <th>0</th>\n",
              "      <td>Berlin</td>\n",
              "      <td>115</td>\n",
              "    </tr>\n",
              "    <tr>\n",
              "      <th>1</th>\n",
              "      <td>Dortmund</td>\n",
              "      <td>36</td>\n",
              "    </tr>\n",
              "    <tr>\n",
              "      <th>2</th>\n",
              "      <td>Mönchengladbach</td>\n",
              "      <td>24</td>\n",
              "    </tr>\n",
              "    <tr>\n",
              "      <th>3</th>\n",
              "      <td>Wetzlar</td>\n",
              "      <td>12</td>\n",
              "    </tr>\n",
              "    <tr>\n",
              "      <th>4</th>\n",
              "      <td>Münster</td>\n",
              "      <td>10</td>\n",
              "    </tr>\n",
              "    <tr>\n",
              "      <th>5</th>\n",
              "      <td>Potsdam</td>\n",
              "      <td>5</td>\n",
              "    </tr>\n",
              "    <tr>\n",
              "      <th>6</th>\n",
              "      <td>Bad Hersfeld</td>\n",
              "      <td>4</td>\n",
              "    </tr>\n",
              "    <tr>\n",
              "      <th>7</th>\n",
              "      <td>Düsseldorf</td>\n",
              "      <td>3</td>\n",
              "    </tr>\n",
              "    <tr>\n",
              "      <th>8</th>\n",
              "      <td>Regensburg</td>\n",
              "      <td>3</td>\n",
              "    </tr>\n",
              "    <tr>\n",
              "      <th>9</th>\n",
              "      <td>Viersen</td>\n",
              "      <td>2</td>\n",
              "    </tr>\n",
              "    <tr>\n",
              "      <th>10</th>\n",
              "      <td>München</td>\n",
              "      <td>2</td>\n",
              "    </tr>\n",
              "    <tr>\n",
              "      <th>11</th>\n",
              "      <td>Stade</td>\n",
              "      <td>2</td>\n",
              "    </tr>\n",
              "    <tr>\n",
              "      <th>12</th>\n",
              "      <td>Lübeck</td>\n",
              "      <td>1</td>\n",
              "    </tr>\n",
              "    <tr>\n",
              "      <th>13</th>\n",
              "      <td>Bad Salzungen</td>\n",
              "      <td>1</td>\n",
              "    </tr>\n",
              "    <tr>\n",
              "      <th>14</th>\n",
              "      <td>Grevenbroich</td>\n",
              "      <td>1</td>\n",
              "    </tr>\n",
              "    <tr>\n",
              "      <th>15</th>\n",
              "      <td>Iserlohn</td>\n",
              "      <td>1</td>\n",
              "    </tr>\n",
              "    <tr>\n",
              "      <th>16</th>\n",
              "      <td>Witten</td>\n",
              "      <td>1</td>\n",
              "    </tr>\n",
              "    <tr>\n",
              "      <th>17</th>\n",
              "      <td>Reinbek</td>\n",
              "      <td>1</td>\n",
              "    </tr>\n",
              "    <tr>\n",
              "      <th>18</th>\n",
              "      <td>Leipzig</td>\n",
              "      <td>1</td>\n",
              "    </tr>\n",
              "    <tr>\n",
              "      <th>19</th>\n",
              "      <td>Wismar</td>\n",
              "      <td>1</td>\n",
              "    </tr>\n",
              "    <tr>\n",
              "      <th>20</th>\n",
              "      <td>Duisburg</td>\n",
              "      <td>1</td>\n",
              "    </tr>\n",
              "    <tr>\n",
              "      <th>21</th>\n",
              "      <td>Bochum</td>\n",
              "      <td>1</td>\n",
              "    </tr>\n",
              "    <tr>\n",
              "      <th>22</th>\n",
              "      <td>Grünberg</td>\n",
              "      <td>1</td>\n",
              "    </tr>\n",
              "    <tr>\n",
              "      <th>23</th>\n",
              "      <td>Wuppertal</td>\n",
              "      <td>1</td>\n",
              "    </tr>\n",
              "    <tr>\n",
              "      <th>24</th>\n",
              "      <td>Garding</td>\n",
              "      <td>1</td>\n",
              "    </tr>\n",
              "    <tr>\n",
              "      <th>25</th>\n",
              "      <td>Aachen</td>\n",
              "      <td>1</td>\n",
              "    </tr>\n",
              "    <tr>\n",
              "      <th>26</th>\n",
              "      <td>Essen</td>\n",
              "      <td>1</td>\n",
              "    </tr>\n",
              "    <tr>\n",
              "      <th>27</th>\n",
              "      <td>Erkelenz</td>\n",
              "      <td>1</td>\n",
              "    </tr>\n",
              "    <tr>\n",
              "      <th>28</th>\n",
              "      <td>Bitterfeld-Wolfen</td>\n",
              "      <td>1</td>\n",
              "    </tr>\n",
              "    <tr>\n",
              "      <th>29</th>\n",
              "      <td>Korschenbroich</td>\n",
              "      <td>1</td>\n",
              "    </tr>\n",
              "  </tbody>\n",
              "</table>\n",
              "</div>"
            ],
            "text/plain": [
              "                 city  number_users\n",
              "0              Berlin           115\n",
              "1            Dortmund            36\n",
              "2     Mönchengladbach            24\n",
              "3             Wetzlar            12\n",
              "4             Münster            10\n",
              "5             Potsdam             5\n",
              "6        Bad Hersfeld             4\n",
              "7          Düsseldorf             3\n",
              "8          Regensburg             3\n",
              "9             Viersen             2\n",
              "10            München             2\n",
              "11              Stade             2\n",
              "12             Lübeck             1\n",
              "13      Bad Salzungen             1\n",
              "14       Grevenbroich             1\n",
              "15           Iserlohn             1\n",
              "16             Witten             1\n",
              "17            Reinbek             1\n",
              "18            Leipzig             1\n",
              "19             Wismar             1\n",
              "20           Duisburg             1\n",
              "21             Bochum             1\n",
              "22           Grünberg             1\n",
              "23          Wuppertal             1\n",
              "24            Garding             1\n",
              "25             Aachen             1\n",
              "26              Essen             1\n",
              "27           Erkelenz             1\n",
              "28  Bitterfeld-Wolfen             1\n",
              "29     Korschenbroich             1"
            ]
          },
          "metadata": {},
          "execution_count": 109
        }
      ]
    },
    {
      "cell_type": "code",
      "metadata": {
        "colab": {
          "base_uri": "https://localhost:8080/",
          "height": 576
        },
        "id": "zdsl60Z4W9Hz",
        "outputId": "177076ec-b7de-4442-bebb-e25614378506"
      },
      "source": [
        "packages_per_city = packages['city'].value_counts().to_frame().reset_index(drop=False)\n",
        "packages_per_city.columns = ['city','num_packages']\n",
        "packages_per_city"
      ],
      "execution_count": 110,
      "outputs": [
        {
          "output_type": "execute_result",
          "data": {
            "text/html": [
              "<div>\n",
              "<style scoped>\n",
              "    .dataframe tbody tr th:only-of-type {\n",
              "        vertical-align: middle;\n",
              "    }\n",
              "\n",
              "    .dataframe tbody tr th {\n",
              "        vertical-align: top;\n",
              "    }\n",
              "\n",
              "    .dataframe thead th {\n",
              "        text-align: right;\n",
              "    }\n",
              "</style>\n",
              "<table border=\"1\" class=\"dataframe\">\n",
              "  <thead>\n",
              "    <tr style=\"text-align: right;\">\n",
              "      <th></th>\n",
              "      <th>city</th>\n",
              "      <th>num_packages</th>\n",
              "    </tr>\n",
              "  </thead>\n",
              "  <tbody>\n",
              "    <tr>\n",
              "      <th>0</th>\n",
              "      <td>Berlin</td>\n",
              "      <td>2768</td>\n",
              "    </tr>\n",
              "    <tr>\n",
              "      <th>1</th>\n",
              "      <td>Dortmund</td>\n",
              "      <td>306</td>\n",
              "    </tr>\n",
              "    <tr>\n",
              "      <th>2</th>\n",
              "      <td>Münster</td>\n",
              "      <td>50</td>\n",
              "    </tr>\n",
              "    <tr>\n",
              "      <th>3</th>\n",
              "      <td>Regensburg</td>\n",
              "      <td>38</td>\n",
              "    </tr>\n",
              "    <tr>\n",
              "      <th>4</th>\n",
              "      <td>Wetzlar</td>\n",
              "      <td>36</td>\n",
              "    </tr>\n",
              "    <tr>\n",
              "      <th>5</th>\n",
              "      <td>Potsdam</td>\n",
              "      <td>22</td>\n",
              "    </tr>\n",
              "    <tr>\n",
              "      <th>6</th>\n",
              "      <td>Düsseldorf</td>\n",
              "      <td>18</td>\n",
              "    </tr>\n",
              "    <tr>\n",
              "      <th>7</th>\n",
              "      <td>Mönchengladbach</td>\n",
              "      <td>9</td>\n",
              "    </tr>\n",
              "    <tr>\n",
              "      <th>8</th>\n",
              "      <td>Grevenbroich</td>\n",
              "      <td>5</td>\n",
              "    </tr>\n",
              "    <tr>\n",
              "      <th>9</th>\n",
              "      <td>Grünberg</td>\n",
              "      <td>4</td>\n",
              "    </tr>\n",
              "    <tr>\n",
              "      <th>10</th>\n",
              "      <td>Bad Hersfeld</td>\n",
              "      <td>3</td>\n",
              "    </tr>\n",
              "    <tr>\n",
              "      <th>11</th>\n",
              "      <td>Iserlohn</td>\n",
              "      <td>3</td>\n",
              "    </tr>\n",
              "    <tr>\n",
              "      <th>12</th>\n",
              "      <td>Viersen</td>\n",
              "      <td>3</td>\n",
              "    </tr>\n",
              "    <tr>\n",
              "      <th>13</th>\n",
              "      <td>Bremen</td>\n",
              "      <td>1</td>\n",
              "    </tr>\n",
              "    <tr>\n",
              "      <th>14</th>\n",
              "      <td>Reinbek</td>\n",
              "      <td>1</td>\n",
              "    </tr>\n",
              "    <tr>\n",
              "      <th>15</th>\n",
              "      <td>Essen</td>\n",
              "      <td>1</td>\n",
              "    </tr>\n",
              "    <tr>\n",
              "      <th>16</th>\n",
              "      <td>Stade</td>\n",
              "      <td>1</td>\n",
              "    </tr>\n",
              "  </tbody>\n",
              "</table>\n",
              "</div>"
            ],
            "text/plain": [
              "               city  num_packages\n",
              "0            Berlin          2768\n",
              "1          Dortmund           306\n",
              "2           Münster            50\n",
              "3        Regensburg            38\n",
              "4           Wetzlar            36\n",
              "5           Potsdam            22\n",
              "6        Düsseldorf            18\n",
              "7   Mönchengladbach             9\n",
              "8      Grevenbroich             5\n",
              "9          Grünberg             4\n",
              "10     Bad Hersfeld             3\n",
              "11         Iserlohn             3\n",
              "12          Viersen             3\n",
              "13           Bremen             1\n",
              "14          Reinbek             1\n",
              "15            Essen             1\n",
              "16            Stade             1"
            ]
          },
          "metadata": {},
          "execution_count": 110
        }
      ]
    },
    {
      "cell_type": "markdown",
      "metadata": {
        "id": "-vGf-Ntuu8hk"
      },
      "source": [
        "## Exploratory Data Analysis\n",
        "1. Number of packages per city \n",
        "2. Number of users per city\n",
        "3. Number of packages per sender"
      ]
    },
    {
      "cell_type": "code",
      "metadata": {
        "id": "GoXwU5HjDCxv"
      },
      "source": [
        ""
      ],
      "execution_count": null,
      "outputs": []
    }
  ]
}