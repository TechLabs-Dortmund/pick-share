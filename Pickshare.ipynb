{
  "nbformat": 4,
  "nbformat_minor": 0,
  "metadata": {
    "colab": {
      "name": "Pickshare.ipynb",
      "provenance": [],
      "authorship_tag": "ABX9TyNsWLcT96ZKdMbPfRt/lsaZ",
      "include_colab_link": true
    },
    "kernelspec": {
      "name": "python3",
      "display_name": "Python 3"
    },
    "language_info": {
      "name": "python"
    }
  },
  "cells": [
    {
      "cell_type": "markdown",
      "metadata": {
        "id": "view-in-github",
        "colab_type": "text"
      },
      "source": [
        "<a href=\"https://colab.research.google.com/github/tramyynt/Techlabs/blob/master/Pickshare.ipynb\" target=\"_parent\"><img src=\"https://colab.research.google.com/assets/colab-badge.svg\" alt=\"Open In Colab\"/></a>"
      ]
    },
    {
      "cell_type": "code",
      "metadata": {
        "id": "4g8RxwJ9DjxR"
      },
      "source": [
        "import pandas as pd\n",
        "import json\n",
        "import os\n",
        "from google.colab import drive"
      ],
      "execution_count": 24,
      "outputs": []
    },
    {
      "cell_type": "code",
      "metadata": {
        "colab": {
          "base_uri": "https://localhost:8080/"
        },
        "id": "aeqhYfADGT4A",
        "outputId": "3057d397-8ee6-47d8-a9fb-d0bdb8deb340"
      },
      "source": [
        "drive.mount('/drive')"
      ],
      "execution_count": 25,
      "outputs": [
        {
          "output_type": "stream",
          "text": [
            "Mounted at /drive\n"
          ],
          "name": "stdout"
        }
      ]
    },
    {
      "cell_type": "code",
      "metadata": {
        "colab": {
          "base_uri": "https://localhost:8080/",
          "height": 204
        },
        "id": "wCRXYwDqH4cy",
        "outputId": "854762d5-def5-47c0-f635-68428a0383cd"
      },
      "source": [
        "users = pd.read_json('/drive/MyDrive/Techlabs/pickshare_users.json')\n",
        "# users.head(5)\n",
        "packages = pd.read_json('/drive/MyDrive/Techlabs/pickshare_packages.json')\n",
        "packages.head(5)"
      ],
      "execution_count": 32,
      "outputs": [
        {
          "output_type": "execute_result",
          "data": {
            "text/html": [
              "<div>\n",
              "<style scoped>\n",
              "    .dataframe tbody tr th:only-of-type {\n",
              "        vertical-align: middle;\n",
              "    }\n",
              "\n",
              "    .dataframe tbody tr th {\n",
              "        vertical-align: top;\n",
              "    }\n",
              "\n",
              "    .dataframe thead th {\n",
              "        text-align: right;\n",
              "    }\n",
              "</style>\n",
              "<table border=\"1\" class=\"dataframe\">\n",
              "  <thead>\n",
              "    <tr style=\"text-align: right;\">\n",
              "      <th></th>\n",
              "      <th>senderCompanyName</th>\n",
              "      <th>city</th>\n",
              "      <th>_owner</th>\n",
              "    </tr>\n",
              "  </thead>\n",
              "  <tbody>\n",
              "    <tr>\n",
              "      <th>0</th>\n",
              "      <td>Amazon</td>\n",
              "      <td>Dortmund</td>\n",
              "      <td>Björn</td>\n",
              "    </tr>\n",
              "    <tr>\n",
              "      <th>1</th>\n",
              "      <td>Zoo Royal</td>\n",
              "      <td>Berlin</td>\n",
              "      <td>Pia</td>\n",
              "    </tr>\n",
              "    <tr>\n",
              "      <th>2</th>\n",
              "      <td>ABOUTYOU</td>\n",
              "      <td>Dortmund</td>\n",
              "      <td>Björn</td>\n",
              "    </tr>\n",
              "    <tr>\n",
              "      <th>3</th>\n",
              "      <td>Test</td>\n",
              "      <td>Berlin</td>\n",
              "      <td>VTest</td>\n",
              "    </tr>\n",
              "    <tr>\n",
              "      <th>4</th>\n",
              "      <td>notebooksbilliger.de</td>\n",
              "      <td>Dortmund</td>\n",
              "      <td>Björn</td>\n",
              "    </tr>\n",
              "  </tbody>\n",
              "</table>\n",
              "</div>"
            ],
            "text/plain": [
              "      senderCompanyName      city _owner\n",
              "0                Amazon  Dortmund  Björn\n",
              "1             Zoo Royal    Berlin    Pia\n",
              "2              ABOUTYOU  Dortmund  Björn\n",
              "3                  Test    Berlin  VTest\n",
              "4  notebooksbilliger.de  Dortmund  Björn"
            ]
          },
          "metadata": {},
          "execution_count": 32
        }
      ]
    },
    {
      "cell_type": "code",
      "metadata": {
        "colab": {
          "base_uri": "https://localhost:8080/"
        },
        "id": "sjL2BGdCgkAP",
        "outputId": "1b69fbd2-47ef-44ca-edd7-de1f8378431b"
      },
      "source": [
        "print(packages['_owner'].describe())\n",
        "print(packages['city'].describe())\n",
        "print(users['firstName'].describe())\n",
        "print(users['city'].describe())"
      ],
      "execution_count": 52,
      "outputs": [
        {
          "output_type": "stream",
          "text": [
            "count        3408\n",
            "unique        100\n",
            "top       Karsten\n",
            "freq          252\n",
            "Name: _owner, dtype: object\n",
            "count       3362\n",
            "unique        39\n",
            "top       Berlin\n",
            "freq        2345\n",
            "Name: city, dtype: object\n",
            "count      257\n",
            "unique     209\n",
            "top       Test\n",
            "freq         5\n",
            "Name: firstName, dtype: object\n",
            "count        257\n",
            "unique        61\n",
            "top       Berlin\n",
            "freq         102\n",
            "Name: city, dtype: object\n"
          ],
          "name": "stdout"
        }
      ]
    },
    {
      "cell_type": "code",
      "metadata": {
        "colab": {
          "base_uri": "https://localhost:8080/"
        },
        "id": "q6u5fWq1hiy2",
        "outputId": "d4a4a4a2-7017-4b5a-d161-05c7352e5d67"
      },
      "source": [
        "print(packages['senderCompanyName'].describe())"
      ],
      "execution_count": 53,
      "outputs": [
        {
          "output_type": "stream",
          "text": [
            "count       3408\n",
            "unique      1002\n",
            "top       Amazon\n",
            "freq        1055\n",
            "Name: senderCompanyName, dtype: object\n"
          ],
          "name": "stdout"
        }
      ]
    }
  ]
}