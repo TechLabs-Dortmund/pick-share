{
  "nbformat": 4,
  "nbformat_minor": 0,
  "metadata": {
    "colab": {
      "name": "Pickshare.ipynb",
      "provenance": [],
      "collapsed_sections": [],
      "mount_file_id": "1L-RbcRVSjuRGh4AgpQCh15Knnb7WxXbM",
      "authorship_tag": "ABX9TyO8/U60UvF85yAosrQof6SY",
      "include_colab_link": true
    },
    "kernelspec": {
      "name": "python3",
      "display_name": "Python 3"
    },
    "language_info": {
      "name": "python"
    }
  },
  "cells": [
    {
      "cell_type": "markdown",
      "metadata": {
        "id": "view-in-github",
        "colab_type": "text"
      },
      "source": [
        "<a href=\"https://colab.research.google.com/github/tramyynt/Techlabs/blob/master/Pickshare.ipynb\" target=\"_parent\"><img src=\"https://colab.research.google.com/assets/colab-badge.svg\" alt=\"Open In Colab\"/></a>"
      ]
    },
    {
      "cell_type": "code",
      "metadata": {
        "id": "4g8RxwJ9DjxR",
        "colab": {
          "base_uri": "https://localhost:8080/"
        },
        "outputId": "8fffff7f-3a85-4990-ed44-14eb20b727ac"
      },
      "source": [
        "!pip install geopandas\n",
        "import pandas as pd\n",
        "import json\n",
        "import os\n",
        "import numpy as np\n",
        "\n",
        "import matplotlib.pyplot as plt\n",
        "import seaborn as sns\n",
        "# import plotly.graph_objects as go\n",
        "import geopandas as gpd\n",
        "import geopy\n",
        "plt.style.use('seaborn')\n",
        "\n",
        "from google.colab import drive\n",
        "%matplotlib inline"
      ],
      "execution_count": 3,
      "outputs": [
        {
          "output_type": "stream",
          "text": [
            "Collecting geopandas\n",
            "  Downloading geopandas-0.9.0-py2.py3-none-any.whl (994 kB)\n",
            "\u001b[?25l\r\u001b[K     |▎                               | 10 kB 3.6 MB/s eta 0:00:01\r\u001b[K     |▋                               | 20 kB 5.3 MB/s eta 0:00:01\r\u001b[K     |█                               | 30 kB 5.3 MB/s eta 0:00:01\r\u001b[K     |█▎                              | 40 kB 6.0 MB/s eta 0:00:01\r\u001b[K     |█▋                              | 51 kB 4.0 MB/s eta 0:00:01\r\u001b[K     |██                              | 61 kB 4.3 MB/s eta 0:00:01\r\u001b[K     |██▎                             | 71 kB 4.2 MB/s eta 0:00:01\r\u001b[K     |██▋                             | 81 kB 4.7 MB/s eta 0:00:01\r\u001b[K     |███                             | 92 kB 4.8 MB/s eta 0:00:01\r\u001b[K     |███▎                            | 102 kB 4.3 MB/s eta 0:00:01\r\u001b[K     |███▋                            | 112 kB 4.3 MB/s eta 0:00:01\r\u001b[K     |████                            | 122 kB 4.3 MB/s eta 0:00:01\r\u001b[K     |████▎                           | 133 kB 4.3 MB/s eta 0:00:01\r\u001b[K     |████▋                           | 143 kB 4.3 MB/s eta 0:00:01\r\u001b[K     |█████                           | 153 kB 4.3 MB/s eta 0:00:01\r\u001b[K     |█████▎                          | 163 kB 4.3 MB/s eta 0:00:01\r\u001b[K     |█████▋                          | 174 kB 4.3 MB/s eta 0:00:01\r\u001b[K     |██████                          | 184 kB 4.3 MB/s eta 0:00:01\r\u001b[K     |██████▎                         | 194 kB 4.3 MB/s eta 0:00:01\r\u001b[K     |██████▋                         | 204 kB 4.3 MB/s eta 0:00:01\r\u001b[K     |███████                         | 215 kB 4.3 MB/s eta 0:00:01\r\u001b[K     |███████▎                        | 225 kB 4.3 MB/s eta 0:00:01\r\u001b[K     |███████▋                        | 235 kB 4.3 MB/s eta 0:00:01\r\u001b[K     |████████                        | 245 kB 4.3 MB/s eta 0:00:01\r\u001b[K     |████████▎                       | 256 kB 4.3 MB/s eta 0:00:01\r\u001b[K     |████████▋                       | 266 kB 4.3 MB/s eta 0:00:01\r\u001b[K     |█████████                       | 276 kB 4.3 MB/s eta 0:00:01\r\u001b[K     |█████████▎                      | 286 kB 4.3 MB/s eta 0:00:01\r\u001b[K     |█████████▌                      | 296 kB 4.3 MB/s eta 0:00:01\r\u001b[K     |█████████▉                      | 307 kB 4.3 MB/s eta 0:00:01\r\u001b[K     |██████████▏                     | 317 kB 4.3 MB/s eta 0:00:01\r\u001b[K     |██████████▌                     | 327 kB 4.3 MB/s eta 0:00:01\r\u001b[K     |██████████▉                     | 337 kB 4.3 MB/s eta 0:00:01\r\u001b[K     |███████████▏                    | 348 kB 4.3 MB/s eta 0:00:01\r\u001b[K     |███████████▌                    | 358 kB 4.3 MB/s eta 0:00:01\r\u001b[K     |███████████▉                    | 368 kB 4.3 MB/s eta 0:00:01\r\u001b[K     |████████████▏                   | 378 kB 4.3 MB/s eta 0:00:01\r\u001b[K     |████████████▌                   | 389 kB 4.3 MB/s eta 0:00:01\r\u001b[K     |████████████▉                   | 399 kB 4.3 MB/s eta 0:00:01\r\u001b[K     |█████████████▏                  | 409 kB 4.3 MB/s eta 0:00:01\r\u001b[K     |█████████████▌                  | 419 kB 4.3 MB/s eta 0:00:01\r\u001b[K     |█████████████▉                  | 430 kB 4.3 MB/s eta 0:00:01\r\u001b[K     |██████████████▏                 | 440 kB 4.3 MB/s eta 0:00:01\r\u001b[K     |██████████████▌                 | 450 kB 4.3 MB/s eta 0:00:01\r\u001b[K     |██████████████▉                 | 460 kB 4.3 MB/s eta 0:00:01\r\u001b[K     |███████████████▏                | 471 kB 4.3 MB/s eta 0:00:01\r\u001b[K     |███████████████▌                | 481 kB 4.3 MB/s eta 0:00:01\r\u001b[K     |███████████████▉                | 491 kB 4.3 MB/s eta 0:00:01\r\u001b[K     |████████████████▏               | 501 kB 4.3 MB/s eta 0:00:01\r\u001b[K     |████████████████▌               | 512 kB 4.3 MB/s eta 0:00:01\r\u001b[K     |████████████████▉               | 522 kB 4.3 MB/s eta 0:00:01\r\u001b[K     |█████████████████▏              | 532 kB 4.3 MB/s eta 0:00:01\r\u001b[K     |█████████████████▌              | 542 kB 4.3 MB/s eta 0:00:01\r\u001b[K     |█████████████████▉              | 552 kB 4.3 MB/s eta 0:00:01\r\u001b[K     |██████████████████▏             | 563 kB 4.3 MB/s eta 0:00:01\r\u001b[K     |██████████████████▌             | 573 kB 4.3 MB/s eta 0:00:01\r\u001b[K     |██████████████████▊             | 583 kB 4.3 MB/s eta 0:00:01\r\u001b[K     |███████████████████             | 593 kB 4.3 MB/s eta 0:00:01\r\u001b[K     |███████████████████▍            | 604 kB 4.3 MB/s eta 0:00:01\r\u001b[K     |███████████████████▊            | 614 kB 4.3 MB/s eta 0:00:01\r\u001b[K     |████████████████████            | 624 kB 4.3 MB/s eta 0:00:01\r\u001b[K     |████████████████████▍           | 634 kB 4.3 MB/s eta 0:00:01\r\u001b[K     |████████████████████▊           | 645 kB 4.3 MB/s eta 0:00:01\r\u001b[K     |█████████████████████           | 655 kB 4.3 MB/s eta 0:00:01\r\u001b[K     |█████████████████████▍          | 665 kB 4.3 MB/s eta 0:00:01\r\u001b[K     |█████████████████████▊          | 675 kB 4.3 MB/s eta 0:00:01\r\u001b[K     |██████████████████████          | 686 kB 4.3 MB/s eta 0:00:01\r\u001b[K     |██████████████████████▍         | 696 kB 4.3 MB/s eta 0:00:01\r\u001b[K     |██████████████████████▊         | 706 kB 4.3 MB/s eta 0:00:01\r\u001b[K     |███████████████████████         | 716 kB 4.3 MB/s eta 0:00:01\r\u001b[K     |███████████████████████▍        | 727 kB 4.3 MB/s eta 0:00:01\r\u001b[K     |███████████████████████▊        | 737 kB 4.3 MB/s eta 0:00:01\r\u001b[K     |████████████████████████        | 747 kB 4.3 MB/s eta 0:00:01\r\u001b[K     |████████████████████████▍       | 757 kB 4.3 MB/s eta 0:00:01\r\u001b[K     |████████████████████████▊       | 768 kB 4.3 MB/s eta 0:00:01\r\u001b[K     |█████████████████████████       | 778 kB 4.3 MB/s eta 0:00:01\r\u001b[K     |█████████████████████████▍      | 788 kB 4.3 MB/s eta 0:00:01\r\u001b[K     |█████████████████████████▊      | 798 kB 4.3 MB/s eta 0:00:01\r\u001b[K     |██████████████████████████      | 808 kB 4.3 MB/s eta 0:00:01\r\u001b[K     |██████████████████████████▍     | 819 kB 4.3 MB/s eta 0:00:01\r\u001b[K     |██████████████████████████▊     | 829 kB 4.3 MB/s eta 0:00:01\r\u001b[K     |███████████████████████████     | 839 kB 4.3 MB/s eta 0:00:01\r\u001b[K     |███████████████████████████▍    | 849 kB 4.3 MB/s eta 0:00:01\r\u001b[K     |███████████████████████████▊    | 860 kB 4.3 MB/s eta 0:00:01\r\u001b[K     |████████████████████████████    | 870 kB 4.3 MB/s eta 0:00:01\r\u001b[K     |████████████████████████████▎   | 880 kB 4.3 MB/s eta 0:00:01\r\u001b[K     |████████████████████████████▋   | 890 kB 4.3 MB/s eta 0:00:01\r\u001b[K     |█████████████████████████████   | 901 kB 4.3 MB/s eta 0:00:01\r\u001b[K     |█████████████████████████████▎  | 911 kB 4.3 MB/s eta 0:00:01\r\u001b[K     |█████████████████████████████▋  | 921 kB 4.3 MB/s eta 0:00:01\r\u001b[K     |██████████████████████████████  | 931 kB 4.3 MB/s eta 0:00:01\r\u001b[K     |██████████████████████████████▎ | 942 kB 4.3 MB/s eta 0:00:01\r\u001b[K     |██████████████████████████████▋ | 952 kB 4.3 MB/s eta 0:00:01\r\u001b[K     |███████████████████████████████ | 962 kB 4.3 MB/s eta 0:00:01\r\u001b[K     |███████████████████████████████▎| 972 kB 4.3 MB/s eta 0:00:01\r\u001b[K     |███████████████████████████████▋| 983 kB 4.3 MB/s eta 0:00:01\r\u001b[K     |████████████████████████████████| 993 kB 4.3 MB/s eta 0:00:01\r\u001b[K     |████████████████████████████████| 994 kB 4.3 MB/s \n",
            "\u001b[?25hRequirement already satisfied: shapely>=1.6 in /usr/local/lib/python3.7/dist-packages (from geopandas) (1.7.1)\n",
            "Collecting fiona>=1.8\n",
            "  Downloading Fiona-1.8.20-cp37-cp37m-manylinux1_x86_64.whl (15.4 MB)\n",
            "\u001b[K     |████████████████████████████████| 15.4 MB 36 kB/s \n",
            "\u001b[?25hCollecting pyproj>=2.2.0\n",
            "  Downloading pyproj-3.1.0-cp37-cp37m-manylinux2010_x86_64.whl (6.6 MB)\n",
            "\u001b[K     |████████████████████████████████| 6.6 MB 43.3 MB/s \n",
            "\u001b[?25hRequirement already satisfied: pandas>=0.24.0 in /usr/local/lib/python3.7/dist-packages (from geopandas) (1.1.5)\n",
            "Requirement already satisfied: attrs>=17 in /usr/local/lib/python3.7/dist-packages (from fiona>=1.8->geopandas) (21.2.0)\n",
            "Requirement already satisfied: click>=4.0 in /usr/local/lib/python3.7/dist-packages (from fiona>=1.8->geopandas) (7.1.2)\n",
            "Requirement already satisfied: certifi in /usr/local/lib/python3.7/dist-packages (from fiona>=1.8->geopandas) (2021.5.30)\n",
            "Collecting cligj>=0.5\n",
            "  Downloading cligj-0.7.2-py3-none-any.whl (7.1 kB)\n",
            "Collecting click-plugins>=1.0\n",
            "  Downloading click_plugins-1.1.1-py2.py3-none-any.whl (7.5 kB)\n",
            "Requirement already satisfied: setuptools in /usr/local/lib/python3.7/dist-packages (from fiona>=1.8->geopandas) (57.4.0)\n",
            "Collecting munch\n",
            "  Downloading munch-2.5.0-py2.py3-none-any.whl (10 kB)\n",
            "Requirement already satisfied: six>=1.7 in /usr/local/lib/python3.7/dist-packages (from fiona>=1.8->geopandas) (1.15.0)\n",
            "Requirement already satisfied: numpy>=1.15.4 in /usr/local/lib/python3.7/dist-packages (from pandas>=0.24.0->geopandas) (1.19.5)\n",
            "Requirement already satisfied: pytz>=2017.2 in /usr/local/lib/python3.7/dist-packages (from pandas>=0.24.0->geopandas) (2018.9)\n",
            "Requirement already satisfied: python-dateutil>=2.7.3 in /usr/local/lib/python3.7/dist-packages (from pandas>=0.24.0->geopandas) (2.8.2)\n",
            "Installing collected packages: munch, cligj, click-plugins, pyproj, fiona, geopandas\n",
            "Successfully installed click-plugins-1.1.1 cligj-0.7.2 fiona-1.8.20 geopandas-0.9.0 munch-2.5.0 pyproj-3.1.0\n"
          ],
          "name": "stdout"
        }
      ]
    },
    {
      "cell_type": "code",
      "metadata": {
        "colab": {
          "base_uri": "https://localhost:8080/"
        },
        "id": "aeqhYfADGT4A",
        "outputId": "e7ab9017-48bc-4c96-bb1d-8d055b03e6fc"
      },
      "source": [
        "drive.mount('/drive')"
      ],
      "execution_count": 4,
      "outputs": [
        {
          "output_type": "stream",
          "text": [
            "Mounted at /drive\n"
          ],
          "name": "stdout"
        }
      ]
    },
    {
      "cell_type": "code",
      "metadata": {
        "colab": {
          "base_uri": "https://localhost:8080/",
          "height": 204
        },
        "id": "wCRXYwDqH4cy",
        "outputId": "04869457-ce8a-448b-d617-f3c15cbccb8c"
      },
      "source": [
        "users = pd.read_json('/drive/MyDrive/Techlabs/pickshare_users.json')\n",
        "# users.head(5)\n",
        "packages = pd.read_json('/drive/MyDrive/Techlabs/pickshare_packages.json')\n",
        "packages.head(5)"
      ],
      "execution_count": 5,
      "outputs": [
        {
          "output_type": "execute_result",
          "data": {
            "text/html": [
              "<div>\n",
              "<style scoped>\n",
              "    .dataframe tbody tr th:only-of-type {\n",
              "        vertical-align: middle;\n",
              "    }\n",
              "\n",
              "    .dataframe tbody tr th {\n",
              "        vertical-align: top;\n",
              "    }\n",
              "\n",
              "    .dataframe thead th {\n",
              "        text-align: right;\n",
              "    }\n",
              "</style>\n",
              "<table border=\"1\" class=\"dataframe\">\n",
              "  <thead>\n",
              "    <tr style=\"text-align: right;\">\n",
              "      <th></th>\n",
              "      <th>senderCompanyName</th>\n",
              "      <th>city</th>\n",
              "      <th>_owner</th>\n",
              "    </tr>\n",
              "  </thead>\n",
              "  <tbody>\n",
              "    <tr>\n",
              "      <th>0</th>\n",
              "      <td>Amazon</td>\n",
              "      <td>Dortmund</td>\n",
              "      <td>Björn</td>\n",
              "    </tr>\n",
              "    <tr>\n",
              "      <th>1</th>\n",
              "      <td>Zoo Royal</td>\n",
              "      <td>Berlin</td>\n",
              "      <td>Pia</td>\n",
              "    </tr>\n",
              "    <tr>\n",
              "      <th>2</th>\n",
              "      <td>ABOUTYOU</td>\n",
              "      <td>Dortmund</td>\n",
              "      <td>Björn</td>\n",
              "    </tr>\n",
              "    <tr>\n",
              "      <th>3</th>\n",
              "      <td>Test</td>\n",
              "      <td>Berlin</td>\n",
              "      <td>VTest</td>\n",
              "    </tr>\n",
              "    <tr>\n",
              "      <th>4</th>\n",
              "      <td>notebooksbilliger.de</td>\n",
              "      <td>Dortmund</td>\n",
              "      <td>Björn</td>\n",
              "    </tr>\n",
              "  </tbody>\n",
              "</table>\n",
              "</div>"
            ],
            "text/plain": [
              "      senderCompanyName      city _owner\n",
              "0                Amazon  Dortmund  Björn\n",
              "1             Zoo Royal    Berlin    Pia\n",
              "2              ABOUTYOU  Dortmund  Björn\n",
              "3                  Test    Berlin  VTest\n",
              "4  notebooksbilliger.de  Dortmund  Björn"
            ]
          },
          "metadata": {},
          "execution_count": 5
        }
      ]
    },
    {
      "cell_type": "code",
      "metadata": {
        "colab": {
          "base_uri": "https://localhost:8080/"
        },
        "id": "sjL2BGdCgkAP",
        "outputId": "db16e57f-6a14-49f4-e18b-2d231f327d7e"
      },
      "source": [
        "print(packages['_owner'].describe())\n",
        "print(packages['city'].describe())\n",
        "print(users['firstName'].describe())\n",
        "print(users['city'].describe())"
      ],
      "execution_count": 6,
      "outputs": [
        {
          "output_type": "stream",
          "text": [
            "count        3408\n",
            "unique        100\n",
            "top       Karsten\n",
            "freq          252\n",
            "Name: _owner, dtype: object\n",
            "count       3362\n",
            "unique        39\n",
            "top       Berlin\n",
            "freq        2345\n",
            "Name: city, dtype: object\n",
            "count      257\n",
            "unique     209\n",
            "top       Test\n",
            "freq         5\n",
            "Name: firstName, dtype: object\n",
            "count        257\n",
            "unique        61\n",
            "top       Berlin\n",
            "freq         102\n",
            "Name: city, dtype: object\n"
          ],
          "name": "stdout"
        }
      ]
    },
    {
      "cell_type": "code",
      "metadata": {
        "colab": {
          "base_uri": "https://localhost:8080/"
        },
        "id": "q6u5fWq1hiy2",
        "outputId": "a9d68cc3-fa5d-4a05-b533-d63838110296"
      },
      "source": [
        "print(packages['senderCompanyName'].describe())"
      ],
      "execution_count": 7,
      "outputs": [
        {
          "output_type": "stream",
          "text": [
            "count       3408\n",
            "unique      1002\n",
            "top       Amazon\n",
            "freq        1055\n",
            "Name: senderCompanyName, dtype: object\n"
          ],
          "name": "stdout"
        }
      ]
    },
    {
      "cell_type": "markdown",
      "metadata": {
        "id": "-OlPdVq7KF1s"
      },
      "source": [
        "1. Cluster geospatial data to know where we should put a depot\n",
        "2. Cluster based on their total numbers of oders."
      ]
    },
    {
      "cell_type": "markdown",
      "metadata": {
        "id": "qh5hK3XwZcl7"
      },
      "source": [
        "### Data Preprocessing"
      ]
    },
    {
      "cell_type": "code",
      "metadata": {
        "id": "x18OYFBpkbWv"
      },
      "source": [
        "def  cleaning_text(df, col):\n",
        "  df.loc[df[col].str.contains('berlin', case=False, regex=False), col] = 'Berlin'\n",
        "  df.loc[df[col].str.contains('dortmund', case=False, regex=False), col] = 'Dortmund'\n",
        "  df.loc[df[col].str.contains('Potsdam', case=False, regex=False), col] = 'Potsdam'\n",
        "  df.loc[df[col].str.contains('Dusseldorf', case=False, regex=False), col] = 'Düsseldorf'\n",
        "  df.loc[df[col].str.contains('Regensburg', case=False, regex=False), col] = 'Regensburg'\n",
        "  df.loc[df[col].str.contains('Moenchengladbach', case = False, regex = False), col] = 'Mönchengladbach'\n",
        "  df.loc[df[col].str.contains('Bad Hersfeld', case = False, regex = False), col] = 'Bad Hersfeld'\n",
        "  df.loc[df[col].str.contains('Viersen', case = False, regex = False), col] = 'Viersen'\n",
        "  df.loc[df[col].str.contains('Münster', case = False, regex = False), col] = 'Münster'\n",
        "  df.loc[df[col].str.contains('mönchengladbach', case = False, regex = False), col] = 'Mönchengladbach'\n",
        "  df.loc[df[col].str.contains('Wetzlar', case = False, regex = False), col] = 'Wetzlar'\n",
        "  df.loc[df[col].str.contains('München', case = False, regex = False), col] = 'München'\n",
        "  return df"
      ],
      "execution_count": 8,
      "outputs": []
    },
    {
      "cell_type": "code",
      "metadata": {
        "id": "GIOVB-ZoZnWi"
      },
      "source": [
        "#packages\n",
        "#packages.isna().sum()\n",
        "packages = packages[packages.city.notna()].reset_index(drop=True) #remove missing values\n",
        "\n",
        "#cleaning text\n",
        "packages = cleaning_text(packages, 'city')"
      ],
      "execution_count": 9,
      "outputs": []
    },
    {
      "cell_type": "code",
      "metadata": {
        "id": "yxubENC6e9Fr"
      },
      "source": [
        "#users\n",
        "users = users[users.city.notna()].reset_index(drop = True)\n",
        "\n",
        "users = cleaning_text(users,'city')"
      ],
      "execution_count": 10,
      "outputs": []
    },
    {
      "cell_type": "code",
      "metadata": {
        "id": "YSJXQxxRvRix"
      },
      "source": [
        "#get city list of Germany and check if a city belongs to the list, otherwise remove it. Refer : https://moduliertersingvogel.de/2017/09/03/german-cities-list/\n",
        "from bs4 import BeautifulSoup\n",
        "import requests\n",
        "class CityList:\n",
        "    def __init__(self):\n",
        "        self.__countries={\n",
        "            'BY':'Bayern',\n",
        "            'BW':'Baden-Württemberg',\n",
        "            'NW':'Nordrhein-Westfalen',\n",
        "            'HE':'Hessen',\n",
        "            'SN':'Sachsen',\n",
        "            'NI':'Niedersachsen',\n",
        "            'RP':'Rheinland-Pfalz',\n",
        "            'TH':'Thüringen',\n",
        "            'BB':'Brandenburg',\n",
        "            'ST':'Sachsen-Anhalt',\n",
        "            'MV':'Mecklenburg-Vorpommern',\n",
        "            'SH':'Schleswig-Holstein',\n",
        "            'SL':'Saarland',\n",
        "            'HB':'Bremen',\n",
        "            'BE':'Berlin',\n",
        "            'HH':'Hamburg'\n",
        "        }\n",
        "        \n",
        "    def retrieveGermanList(self):\n",
        "        r = requests.get('https://de.wikipedia.org/wiki/Liste_der_St%C3%A4dte_in_Deutschland')\n",
        "        soup = BeautifulSoup(r.content, \"html5lib\")\n",
        "        cities={}\n",
        "        tables=soup.find_all('table')\n",
        "        for t in tables:\n",
        "            lis=t.find_all('dd')\n",
        "            for l in lis:\n",
        "                # All countries are in brackets after the city name.\n",
        "                # Some cities are listed like: SN, Landeshauptstadt\n",
        "                countryShort=None\n",
        "                additional=l.contents[1].split('(')[1].split(')')[0].strip()\n",
        "                if ',' in additional:\n",
        "                    countryShort=additional.split(',')[0]\n",
        "                else:\n",
        "                    countryShort=additional\n",
        "                cities[l.find('a').contents[0]]=self.__countries[countryShort]\n",
        "                \n",
        "        return cities\n",
        "\n",
        "city_list = CityList().retrieveGermanList()\n",
        "users = users[users['city'].isin(city_list.keys())]\n",
        "packages = packages[packages['city'].isin(city_list.keys())]"
      ],
      "execution_count": 11,
      "outputs": []
    },
    {
      "cell_type": "code",
      "metadata": {
        "colab": {
          "base_uri": "https://localhost:8080/",
          "height": 979
        },
        "id": "bIka1XbLZv-P",
        "outputId": "da28eaa0-565b-4c57-d138-df967151e705"
      },
      "source": [
        "users_per_city = users['city'].value_counts().to_frame().reset_index(drop = False)\n",
        "users_per_city.columns = ['city', 'number_users']\n",
        "users_per_city['federal'] = users_per_city['city'].apply(lambda x: city_list[x])\n",
        "users_per_city"
      ],
      "execution_count": 12,
      "outputs": [
        {
          "output_type": "execute_result",
          "data": {
            "text/html": [
              "<div>\n",
              "<style scoped>\n",
              "    .dataframe tbody tr th:only-of-type {\n",
              "        vertical-align: middle;\n",
              "    }\n",
              "\n",
              "    .dataframe tbody tr th {\n",
              "        vertical-align: top;\n",
              "    }\n",
              "\n",
              "    .dataframe thead th {\n",
              "        text-align: right;\n",
              "    }\n",
              "</style>\n",
              "<table border=\"1\" class=\"dataframe\">\n",
              "  <thead>\n",
              "    <tr style=\"text-align: right;\">\n",
              "      <th></th>\n",
              "      <th>city</th>\n",
              "      <th>number_users</th>\n",
              "      <th>federal</th>\n",
              "    </tr>\n",
              "  </thead>\n",
              "  <tbody>\n",
              "    <tr>\n",
              "      <th>0</th>\n",
              "      <td>Berlin</td>\n",
              "      <td>115</td>\n",
              "      <td>Berlin</td>\n",
              "    </tr>\n",
              "    <tr>\n",
              "      <th>1</th>\n",
              "      <td>Dortmund</td>\n",
              "      <td>36</td>\n",
              "      <td>Nordrhein-Westfalen</td>\n",
              "    </tr>\n",
              "    <tr>\n",
              "      <th>2</th>\n",
              "      <td>Mönchengladbach</td>\n",
              "      <td>24</td>\n",
              "      <td>Nordrhein-Westfalen</td>\n",
              "    </tr>\n",
              "    <tr>\n",
              "      <th>3</th>\n",
              "      <td>Wetzlar</td>\n",
              "      <td>12</td>\n",
              "      <td>Hessen</td>\n",
              "    </tr>\n",
              "    <tr>\n",
              "      <th>4</th>\n",
              "      <td>Münster</td>\n",
              "      <td>10</td>\n",
              "      <td>Nordrhein-Westfalen</td>\n",
              "    </tr>\n",
              "    <tr>\n",
              "      <th>5</th>\n",
              "      <td>Potsdam</td>\n",
              "      <td>5</td>\n",
              "      <td>Brandenburg</td>\n",
              "    </tr>\n",
              "    <tr>\n",
              "      <th>6</th>\n",
              "      <td>Bad Hersfeld</td>\n",
              "      <td>4</td>\n",
              "      <td>Hessen</td>\n",
              "    </tr>\n",
              "    <tr>\n",
              "      <th>7</th>\n",
              "      <td>Düsseldorf</td>\n",
              "      <td>3</td>\n",
              "      <td>Nordrhein-Westfalen</td>\n",
              "    </tr>\n",
              "    <tr>\n",
              "      <th>8</th>\n",
              "      <td>Regensburg</td>\n",
              "      <td>3</td>\n",
              "      <td>Bayern</td>\n",
              "    </tr>\n",
              "    <tr>\n",
              "      <th>9</th>\n",
              "      <td>Viersen</td>\n",
              "      <td>2</td>\n",
              "      <td>Nordrhein-Westfalen</td>\n",
              "    </tr>\n",
              "    <tr>\n",
              "      <th>10</th>\n",
              "      <td>München</td>\n",
              "      <td>2</td>\n",
              "      <td>Bayern</td>\n",
              "    </tr>\n",
              "    <tr>\n",
              "      <th>11</th>\n",
              "      <td>Stade</td>\n",
              "      <td>2</td>\n",
              "      <td>Niedersachsen</td>\n",
              "    </tr>\n",
              "    <tr>\n",
              "      <th>12</th>\n",
              "      <td>Grevenbroich</td>\n",
              "      <td>1</td>\n",
              "      <td>Nordrhein-Westfalen</td>\n",
              "    </tr>\n",
              "    <tr>\n",
              "      <th>13</th>\n",
              "      <td>Korschenbroich</td>\n",
              "      <td>1</td>\n",
              "      <td>Nordrhein-Westfalen</td>\n",
              "    </tr>\n",
              "    <tr>\n",
              "      <th>14</th>\n",
              "      <td>Bochum</td>\n",
              "      <td>1</td>\n",
              "      <td>Nordrhein-Westfalen</td>\n",
              "    </tr>\n",
              "    <tr>\n",
              "      <th>15</th>\n",
              "      <td>Erkelenz</td>\n",
              "      <td>1</td>\n",
              "      <td>Nordrhein-Westfalen</td>\n",
              "    </tr>\n",
              "    <tr>\n",
              "      <th>16</th>\n",
              "      <td>Aachen</td>\n",
              "      <td>1</td>\n",
              "      <td>Nordrhein-Westfalen</td>\n",
              "    </tr>\n",
              "    <tr>\n",
              "      <th>17</th>\n",
              "      <td>Bad Salzungen</td>\n",
              "      <td>1</td>\n",
              "      <td>Thüringen</td>\n",
              "    </tr>\n",
              "    <tr>\n",
              "      <th>18</th>\n",
              "      <td>Essen</td>\n",
              "      <td>1</td>\n",
              "      <td>Nordrhein-Westfalen</td>\n",
              "    </tr>\n",
              "    <tr>\n",
              "      <th>19</th>\n",
              "      <td>Grünberg</td>\n",
              "      <td>1</td>\n",
              "      <td>Hessen</td>\n",
              "    </tr>\n",
              "    <tr>\n",
              "      <th>20</th>\n",
              "      <td>Bitterfeld-Wolfen</td>\n",
              "      <td>1</td>\n",
              "      <td>Sachsen-Anhalt</td>\n",
              "    </tr>\n",
              "    <tr>\n",
              "      <th>21</th>\n",
              "      <td>Iserlohn</td>\n",
              "      <td>1</td>\n",
              "      <td>Nordrhein-Westfalen</td>\n",
              "    </tr>\n",
              "    <tr>\n",
              "      <th>22</th>\n",
              "      <td>Leipzig</td>\n",
              "      <td>1</td>\n",
              "      <td>Sachsen</td>\n",
              "    </tr>\n",
              "    <tr>\n",
              "      <th>23</th>\n",
              "      <td>Wismar</td>\n",
              "      <td>1</td>\n",
              "      <td>Mecklenburg-Vorpommern</td>\n",
              "    </tr>\n",
              "    <tr>\n",
              "      <th>24</th>\n",
              "      <td>Duisburg</td>\n",
              "      <td>1</td>\n",
              "      <td>Nordrhein-Westfalen</td>\n",
              "    </tr>\n",
              "    <tr>\n",
              "      <th>25</th>\n",
              "      <td>Lübeck</td>\n",
              "      <td>1</td>\n",
              "      <td>Schleswig-Holstein</td>\n",
              "    </tr>\n",
              "    <tr>\n",
              "      <th>26</th>\n",
              "      <td>Garding</td>\n",
              "      <td>1</td>\n",
              "      <td>Schleswig-Holstein</td>\n",
              "    </tr>\n",
              "    <tr>\n",
              "      <th>27</th>\n",
              "      <td>Reinbek</td>\n",
              "      <td>1</td>\n",
              "      <td>Schleswig-Holstein</td>\n",
              "    </tr>\n",
              "    <tr>\n",
              "      <th>28</th>\n",
              "      <td>Witten</td>\n",
              "      <td>1</td>\n",
              "      <td>Nordrhein-Westfalen</td>\n",
              "    </tr>\n",
              "    <tr>\n",
              "      <th>29</th>\n",
              "      <td>Wuppertal</td>\n",
              "      <td>1</td>\n",
              "      <td>Nordrhein-Westfalen</td>\n",
              "    </tr>\n",
              "  </tbody>\n",
              "</table>\n",
              "</div>"
            ],
            "text/plain": [
              "                 city  number_users                 federal\n",
              "0              Berlin           115                  Berlin\n",
              "1            Dortmund            36     Nordrhein-Westfalen\n",
              "2     Mönchengladbach            24     Nordrhein-Westfalen\n",
              "3             Wetzlar            12                  Hessen\n",
              "4             Münster            10     Nordrhein-Westfalen\n",
              "5             Potsdam             5             Brandenburg\n",
              "6        Bad Hersfeld             4                  Hessen\n",
              "7          Düsseldorf             3     Nordrhein-Westfalen\n",
              "8          Regensburg             3                  Bayern\n",
              "9             Viersen             2     Nordrhein-Westfalen\n",
              "10            München             2                  Bayern\n",
              "11              Stade             2           Niedersachsen\n",
              "12       Grevenbroich             1     Nordrhein-Westfalen\n",
              "13     Korschenbroich             1     Nordrhein-Westfalen\n",
              "14             Bochum             1     Nordrhein-Westfalen\n",
              "15           Erkelenz             1     Nordrhein-Westfalen\n",
              "16             Aachen             1     Nordrhein-Westfalen\n",
              "17      Bad Salzungen             1               Thüringen\n",
              "18              Essen             1     Nordrhein-Westfalen\n",
              "19           Grünberg             1                  Hessen\n",
              "20  Bitterfeld-Wolfen             1          Sachsen-Anhalt\n",
              "21           Iserlohn             1     Nordrhein-Westfalen\n",
              "22            Leipzig             1                 Sachsen\n",
              "23             Wismar             1  Mecklenburg-Vorpommern\n",
              "24           Duisburg             1     Nordrhein-Westfalen\n",
              "25             Lübeck             1      Schleswig-Holstein\n",
              "26            Garding             1      Schleswig-Holstein\n",
              "27            Reinbek             1      Schleswig-Holstein\n",
              "28             Witten             1     Nordrhein-Westfalen\n",
              "29          Wuppertal             1     Nordrhein-Westfalen"
            ]
          },
          "metadata": {},
          "execution_count": 12
        }
      ]
    },
    {
      "cell_type": "code",
      "metadata": {
        "colab": {
          "base_uri": "https://localhost:8080/",
          "height": 576
        },
        "id": "zdsl60Z4W9Hz",
        "outputId": "3f920d4f-420d-49e2-c89f-5f5af2fbe5d8"
      },
      "source": [
        "packages_per_city = packages['city'].value_counts().to_frame().reset_index(drop=False)\n",
        "packages_per_city.columns = ['city','num_packages']\n",
        "packages_per_city['federal'] = packages_per_city['city'].apply(lambda x: city_list[x]) \n",
        "packages_per_city"
      ],
      "execution_count": 13,
      "outputs": [
        {
          "output_type": "execute_result",
          "data": {
            "text/html": [
              "<div>\n",
              "<style scoped>\n",
              "    .dataframe tbody tr th:only-of-type {\n",
              "        vertical-align: middle;\n",
              "    }\n",
              "\n",
              "    .dataframe tbody tr th {\n",
              "        vertical-align: top;\n",
              "    }\n",
              "\n",
              "    .dataframe thead th {\n",
              "        text-align: right;\n",
              "    }\n",
              "</style>\n",
              "<table border=\"1\" class=\"dataframe\">\n",
              "  <thead>\n",
              "    <tr style=\"text-align: right;\">\n",
              "      <th></th>\n",
              "      <th>city</th>\n",
              "      <th>num_packages</th>\n",
              "      <th>federal</th>\n",
              "    </tr>\n",
              "  </thead>\n",
              "  <tbody>\n",
              "    <tr>\n",
              "      <th>0</th>\n",
              "      <td>Berlin</td>\n",
              "      <td>2768</td>\n",
              "      <td>Berlin</td>\n",
              "    </tr>\n",
              "    <tr>\n",
              "      <th>1</th>\n",
              "      <td>Dortmund</td>\n",
              "      <td>306</td>\n",
              "      <td>Nordrhein-Westfalen</td>\n",
              "    </tr>\n",
              "    <tr>\n",
              "      <th>2</th>\n",
              "      <td>Wetzlar</td>\n",
              "      <td>52</td>\n",
              "      <td>Hessen</td>\n",
              "    </tr>\n",
              "    <tr>\n",
              "      <th>3</th>\n",
              "      <td>Münster</td>\n",
              "      <td>50</td>\n",
              "      <td>Nordrhein-Westfalen</td>\n",
              "    </tr>\n",
              "    <tr>\n",
              "      <th>4</th>\n",
              "      <td>Regensburg</td>\n",
              "      <td>38</td>\n",
              "      <td>Bayern</td>\n",
              "    </tr>\n",
              "    <tr>\n",
              "      <th>5</th>\n",
              "      <td>Mönchengladbach</td>\n",
              "      <td>26</td>\n",
              "      <td>Nordrhein-Westfalen</td>\n",
              "    </tr>\n",
              "    <tr>\n",
              "      <th>6</th>\n",
              "      <td>Potsdam</td>\n",
              "      <td>22</td>\n",
              "      <td>Brandenburg</td>\n",
              "    </tr>\n",
              "    <tr>\n",
              "      <th>7</th>\n",
              "      <td>Düsseldorf</td>\n",
              "      <td>18</td>\n",
              "      <td>Nordrhein-Westfalen</td>\n",
              "    </tr>\n",
              "    <tr>\n",
              "      <th>8</th>\n",
              "      <td>Grevenbroich</td>\n",
              "      <td>5</td>\n",
              "      <td>Nordrhein-Westfalen</td>\n",
              "    </tr>\n",
              "    <tr>\n",
              "      <th>9</th>\n",
              "      <td>Grünberg</td>\n",
              "      <td>4</td>\n",
              "      <td>Hessen</td>\n",
              "    </tr>\n",
              "    <tr>\n",
              "      <th>10</th>\n",
              "      <td>Viersen</td>\n",
              "      <td>3</td>\n",
              "      <td>Nordrhein-Westfalen</td>\n",
              "    </tr>\n",
              "    <tr>\n",
              "      <th>11</th>\n",
              "      <td>Bad Hersfeld</td>\n",
              "      <td>3</td>\n",
              "      <td>Hessen</td>\n",
              "    </tr>\n",
              "    <tr>\n",
              "      <th>12</th>\n",
              "      <td>Iserlohn</td>\n",
              "      <td>3</td>\n",
              "      <td>Nordrhein-Westfalen</td>\n",
              "    </tr>\n",
              "    <tr>\n",
              "      <th>13</th>\n",
              "      <td>Bremen</td>\n",
              "      <td>1</td>\n",
              "      <td>Bremen</td>\n",
              "    </tr>\n",
              "    <tr>\n",
              "      <th>14</th>\n",
              "      <td>Stade</td>\n",
              "      <td>1</td>\n",
              "      <td>Niedersachsen</td>\n",
              "    </tr>\n",
              "    <tr>\n",
              "      <th>15</th>\n",
              "      <td>Reinbek</td>\n",
              "      <td>1</td>\n",
              "      <td>Schleswig-Holstein</td>\n",
              "    </tr>\n",
              "    <tr>\n",
              "      <th>16</th>\n",
              "      <td>Essen</td>\n",
              "      <td>1</td>\n",
              "      <td>Nordrhein-Westfalen</td>\n",
              "    </tr>\n",
              "  </tbody>\n",
              "</table>\n",
              "</div>"
            ],
            "text/plain": [
              "               city  num_packages              federal\n",
              "0            Berlin          2768               Berlin\n",
              "1          Dortmund           306  Nordrhein-Westfalen\n",
              "2           Wetzlar            52               Hessen\n",
              "3           Münster            50  Nordrhein-Westfalen\n",
              "4        Regensburg            38               Bayern\n",
              "5   Mönchengladbach            26  Nordrhein-Westfalen\n",
              "6           Potsdam            22          Brandenburg\n",
              "7        Düsseldorf            18  Nordrhein-Westfalen\n",
              "8      Grevenbroich             5  Nordrhein-Westfalen\n",
              "9          Grünberg             4               Hessen\n",
              "10          Viersen             3  Nordrhein-Westfalen\n",
              "11     Bad Hersfeld             3               Hessen\n",
              "12         Iserlohn             3  Nordrhein-Westfalen\n",
              "13           Bremen             1               Bremen\n",
              "14            Stade             1        Niedersachsen\n",
              "15          Reinbek             1   Schleswig-Holstein\n",
              "16            Essen             1  Nordrhein-Westfalen"
            ]
          },
          "metadata": {},
          "execution_count": 13
        }
      ]
    },
    {
      "cell_type": "markdown",
      "metadata": {
        "id": "-vGf-Ntuu8hk"
      },
      "source": [
        "## Exploratory Data Analysis\n",
        "1. Number of packages per city \n",
        "2. Number of users per city\n",
        "3. Number of packages per sender"
      ]
    },
    {
      "cell_type": "code",
      "metadata": {
        "colab": {
          "base_uri": "https://localhost:8080/"
        },
        "id": "i6dmKJpoDIVL",
        "outputId": "0ebca19f-03e5-4fc7-ce9e-adbffbdb2c13"
      },
      "source": [
        "#get Geman map\n",
        "plz = pd.read_csv('/content/drive/MyDrive/Techlabs/zuordnung_plz_ort.csv',sep=',', dtype={'plz': str})\n",
        "plz.drop('osm_id', axis=1, inplace=True)\n",
        "plz.head(5)\n",
        "!unzip /content/drive/MyDrive/Techlabs/plz-gebiete.shp.zip  -d /content/drive/MyDrive/Techlabs"
      ],
      "execution_count": 16,
      "outputs": [
        {
          "output_type": "stream",
          "text": [
            "Archive:  /content/drive/MyDrive/Techlabs/plz-gebiete.shp.zip\n",
            "replace /content/drive/MyDrive/Techlabs/plz-gebiete.shp? [y]es, [n]o, [A]ll, [N]one, [r]ename: y\n",
            "  inflating: /content/drive/MyDrive/Techlabs/plz-gebiete.shp  \n",
            "replace /content/drive/MyDrive/Techlabs/plz-gebiete.dbf? [y]es, [n]o, [A]ll, [N]one, [r]ename: y\n",
            "  inflating: /content/drive/MyDrive/Techlabs/plz-gebiete.dbf  \n",
            "replace /content/drive/MyDrive/Techlabs/plz-gebiete.prj? [y]es, [n]o, [A]ll, [N]one, [r]ename: y\n",
            "  inflating: /content/drive/MyDrive/Techlabs/plz-gebiete.prj  \n",
            "replace /content/drive/MyDrive/Techlabs/plz-gebiete.shx? [y]es, [n]o, [A]ll, [N]one, [r]ename: y\n",
            "  inflating: /content/drive/MyDrive/Techlabs/plz-gebiete.shx  \n"
          ],
          "name": "stdout"
        }
      ]
    },
    {
      "cell_type": "code",
      "metadata": {
        "colab": {
          "base_uri": "https://localhost:8080/",
          "height": 204
        },
        "id": "L5sSz8FGJJSu",
        "outputId": "7078e044-1c60-4774-d141-283861d76701"
      },
      "source": [
        "plz_shape_df = gpd.read_file('/content/drive/MyDrive/Techlabs/plz-gebiete.shp', dtype={'plz': str})\n",
        "plz_shape_df.head()"
      ],
      "execution_count": 18,
      "outputs": [
        {
          "output_type": "execute_result",
          "data": {
            "text/html": [
              "<div>\n",
              "<style scoped>\n",
              "    .dataframe tbody tr th:only-of-type {\n",
              "        vertical-align: middle;\n",
              "    }\n",
              "\n",
              "    .dataframe tbody tr th {\n",
              "        vertical-align: top;\n",
              "    }\n",
              "\n",
              "    .dataframe thead th {\n",
              "        text-align: right;\n",
              "    }\n",
              "</style>\n",
              "<table border=\"1\" class=\"dataframe\">\n",
              "  <thead>\n",
              "    <tr style=\"text-align: right;\">\n",
              "      <th></th>\n",
              "      <th>plz</th>\n",
              "      <th>note</th>\n",
              "      <th>geometry</th>\n",
              "    </tr>\n",
              "  </thead>\n",
              "  <tbody>\n",
              "    <tr>\n",
              "      <th>0</th>\n",
              "      <td>52538</td>\n",
              "      <td>52538 Gangelt, Selfkant</td>\n",
              "      <td>POLYGON ((5.86632 51.05110, 5.86692 51.05124, ...</td>\n",
              "    </tr>\n",
              "    <tr>\n",
              "      <th>1</th>\n",
              "      <td>47559</td>\n",
              "      <td>47559 Kranenburg</td>\n",
              "      <td>POLYGON ((5.94504 51.82354, 5.94580 51.82409, ...</td>\n",
              "    </tr>\n",
              "    <tr>\n",
              "      <th>2</th>\n",
              "      <td>52525</td>\n",
              "      <td>52525 Waldfeucht, Heinsberg</td>\n",
              "      <td>POLYGON ((5.96811 51.05556, 5.96951 51.05660, ...</td>\n",
              "    </tr>\n",
              "    <tr>\n",
              "      <th>3</th>\n",
              "      <td>52074</td>\n",
              "      <td>52074 Aachen</td>\n",
              "      <td>POLYGON ((5.97486 50.79804, 5.97495 50.79809, ...</td>\n",
              "    </tr>\n",
              "    <tr>\n",
              "      <th>4</th>\n",
              "      <td>52531</td>\n",
              "      <td>52531 Ãbach-Palenberg</td>\n",
              "      <td>POLYGON ((6.01507 50.94788, 6.03854 50.93561, ...</td>\n",
              "    </tr>\n",
              "  </tbody>\n",
              "</table>\n",
              "</div>"
            ],
            "text/plain": [
              "     plz  ...                                           geometry\n",
              "0  52538  ...  POLYGON ((5.86632 51.05110, 5.86692 51.05124, ...\n",
              "1  47559  ...  POLYGON ((5.94504 51.82354, 5.94580 51.82409, ...\n",
              "2  52525  ...  POLYGON ((5.96811 51.05556, 5.96951 51.05660, ...\n",
              "3  52074  ...  POLYGON ((5.97486 50.79804, 5.97495 50.79809, ...\n",
              "4  52531  ...  POLYGON ((6.01507 50.94788, 6.03854 50.93561, ...\n",
              "\n",
              "[5 rows x 3 columns]"
            ]
          },
          "metadata": {},
          "execution_count": 18
        }
      ]
    },
    {
      "cell_type": "code",
      "metadata": {
        "colab": {
          "base_uri": "https://localhost:8080/",
          "height": 265
        },
        "id": "HZ3tibyaNMLW",
        "outputId": "9eb844b0-a3bb-496d-d42c-663d8727c599"
      },
      "source": [
        "plz_shape_df.plot()\n",
        "plt.show()"
      ],
      "execution_count": 19,
      "outputs": [
        {
          "output_type": "display_data",
          "data": {
            "image/png": "[encoded data removed]",
            "text/plain": [
              "<Figure size 432x288 with 1 Axes>"
            ]
          },
          "metadata": {
            "needs_background": "light"
          }
        }
      ]
    },
    {
      "cell_type": "code",
      "metadata": {
        "colab": {
          "base_uri": "https://localhost:8080/"
        },
        "id": "lmRATuxUOPQ6",
        "outputId": "beb5edcd-0ab5-4638-9e86-4049e51995ba"
      },
      "source": [
        "#get longitude and latitude. refer: https://medium.com/analytics-vidhya/how-to-generate-lat-and-long-coordinates-of-city-without-using-apis-25ebabcaf1d5\n",
        "from  geopy.geocoders import Nominatim\n",
        "geolocator = Nominatim()\n",
        "def get_geocode(city):\n",
        "  country =\"Germany\"\n",
        "  loc = geolocator.geocode(city+','+ country)\n",
        "  return loc.longitude, loc.latitude"
      ],
      "execution_count": 20,
      "outputs": [
        {
          "output_type": "stream",
          "text": [
            "/usr/local/lib/python3.7/dist-packages/geopy/geocoders/osm.py:143: UserWarning: Using Nominatim with the default \"geopy/1.17.0\" `user_agent` is strongly discouraged, as it violates Nominatim's ToS https://operations.osmfoundation.org/policies/nominatim/ and may possibly cause 403 and 429 HTTP errors. Please specify a custom `user_agent` with `Nominatim(user_agent=\"my-application\")` or by overriding the default `user_agent`: `geopy.geocoders.options.default_user_agent = \"my-application\"`. In geopy 2.0 this will become an exception.\n",
            "  UserWarning\n"
          ],
          "name": "stderr"
        }
      ]
    },
    {
      "cell_type": "code",
      "metadata": {
        "id": "DSdeAcNxTlCE"
      },
      "source": [
        "packages_per_city['geo'] = packages_per_city['city'].apply(lambda x : get_geocode(x))\n",
        "packages_per_city['longitude'] = packages_per_city['city'].apply(lambda x : get_geocode(x)[0])\n",
        "packages_per_city['latitude'] = packages_per_city['city'].apply(lambda x : get_geocode(x)[1])"
      ],
      "execution_count": 21,
      "outputs": []
    },
    {
      "cell_type": "code",
      "metadata": {
        "colab": {
          "base_uri": "https://localhost:8080/",
          "height": 204
        },
        "id": "N_V-ZHtiYiOo",
        "outputId": "d411aaef-60ff-4f88-a94c-9c6fbf770961"
      },
      "source": [
        "# get zipcodes\n",
        "def get_zipcode(df, geolocator, lat_field, lon_field):\n",
        "    location = geolocator.reverse((df[lat_field], df[lon_field]))\n",
        "    return location.raw['address']['postcode']\n",
        "\n",
        "\n",
        "geolocator = geopy.Nominatim(user_agent='my-application')\n",
        "\n",
        "df = pd.DataFrame({\n",
        "    'Lat': [29.39291, 29.39923, 29.40147, 29.38752, 29.39291, 29.39537, 29.39343, 29.39291, 29.39556],\n",
        "    'Lon': [-98.50925, -98.51256, -98.51123, -98.52372, -98.50925, -98.50402, -98.49707, -98.50925, -98.53148]\n",
        "})\n",
        "packages_per_city['plz'] = packages_per_city.apply(get_zipcode, axis=1, geolocator=geolocator, lat_field='latitude', lon_field='longitude')\n",
        "packages_per_city.head(5)"
      ],
      "execution_count": 22,
      "outputs": [
        {
          "output_type": "execute_result",
          "data": {
            "text/html": [
              "<div>\n",
              "<style scoped>\n",
              "    .dataframe tbody tr th:only-of-type {\n",
              "        vertical-align: middle;\n",
              "    }\n",
              "\n",
              "    .dataframe tbody tr th {\n",
              "        vertical-align: top;\n",
              "    }\n",
              "\n",
              "    .dataframe thead th {\n",
              "        text-align: right;\n",
              "    }\n",
              "</style>\n",
              "<table border=\"1\" class=\"dataframe\">\n",
              "  <thead>\n",
              "    <tr style=\"text-align: right;\">\n",
              "      <th></th>\n",
              "      <th>city</th>\n",
              "      <th>num_packages</th>\n",
              "      <th>federal</th>\n",
              "      <th>geo</th>\n",
              "      <th>longitude</th>\n",
              "      <th>latitude</th>\n",
              "      <th>plz</th>\n",
              "    </tr>\n",
              "  </thead>\n",
              "  <tbody>\n",
              "    <tr>\n",
              "      <th>0</th>\n",
              "      <td>Berlin</td>\n",
              "      <td>2768</td>\n",
              "      <td>Berlin</td>\n",
              "      <td>(13.3888599, 52.5170365)</td>\n",
              "      <td>13.388860</td>\n",
              "      <td>52.517037</td>\n",
              "      <td>10117</td>\n",
              "    </tr>\n",
              "    <tr>\n",
              "      <th>1</th>\n",
              "      <td>Dortmund</td>\n",
              "      <td>306</td>\n",
              "      <td>Nordrhein-Westfalen</td>\n",
              "      <td>(7.4652789, 51.5142273)</td>\n",
              "      <td>7.465279</td>\n",
              "      <td>51.514227</td>\n",
              "      <td>44137</td>\n",
              "    </tr>\n",
              "    <tr>\n",
              "      <th>2</th>\n",
              "      <td>Wetzlar</td>\n",
              "      <td>52</td>\n",
              "      <td>Hessen</td>\n",
              "      <td>(8.5074406, 50.5525346)</td>\n",
              "      <td>8.507441</td>\n",
              "      <td>50.552535</td>\n",
              "      <td>35578</td>\n",
              "    </tr>\n",
              "    <tr>\n",
              "      <th>3</th>\n",
              "      <td>Münster</td>\n",
              "      <td>50</td>\n",
              "      <td>Nordrhein-Westfalen</td>\n",
              "      <td>(7.6251879, 51.9625101)</td>\n",
              "      <td>7.625188</td>\n",
              "      <td>51.962510</td>\n",
              "      <td>48143</td>\n",
              "    </tr>\n",
              "    <tr>\n",
              "      <th>4</th>\n",
              "      <td>Regensburg</td>\n",
              "      <td>38</td>\n",
              "      <td>Bayern</td>\n",
              "      <td>(12.0974869, 49.0195333)</td>\n",
              "      <td>12.097487</td>\n",
              "      <td>49.019533</td>\n",
              "      <td>93047</td>\n",
              "    </tr>\n",
              "  </tbody>\n",
              "</table>\n",
              "</div>"
            ],
            "text/plain": [
              "         city  num_packages              federal  ...  longitude   latitude    plz\n",
              "0      Berlin          2768               Berlin  ...  13.388860  52.517037  10117\n",
              "1    Dortmund           306  Nordrhein-Westfalen  ...   7.465279  51.514227  44137\n",
              "2     Wetzlar            52               Hessen  ...   8.507441  50.552535  35578\n",
              "3     Münster            50  Nordrhein-Westfalen  ...   7.625188  51.962510  48143\n",
              "4  Regensburg            38               Bayern  ...  12.097487  49.019533  93047\n",
              "\n",
              "[5 rows x 7 columns]"
            ]
          },
          "metadata": {},
          "execution_count": 22
        }
      ]
    },
    {
      "cell_type": "code",
      "metadata": {
        "colab": {
          "base_uri": "https://localhost:8080/"
        },
        "id": "Ms6srtXvaZgW",
        "outputId": "60549869-2d50-4d77-9eb1-443725d34520"
      },
      "source": [
        "#use dict for city and geometry\n",
        "top_cities = pd.Series(packages_per_city.geo.values,index=packages_per_city.city).to_dict()\n",
        "top_cities"
      ],
      "execution_count": 37,
      "outputs": [
        {
          "output_type": "execute_result",
          "data": {
            "text/plain": [
              "{'Bad Hersfeld': (9.7068481, 50.8681341),\n",
              " 'Berlin': (13.3888599, 52.5170365),\n",
              " 'Bremen': (8.8071646, 53.0758196),\n",
              " 'Dortmund': (7.4652789, 51.5142273),\n",
              " 'Düsseldorf': (6.7763137, 51.2254018),\n",
              " 'Essen': (7.0158171, 51.4582235),\n",
              " 'Grevenbroich': (6.5835365, 51.0905783),\n",
              " 'Grünberg': (8.9603407, 50.5913238),\n",
              " 'Iserlohn': (7.6999713, 51.3746778),\n",
              " 'Mönchengladbach': (6.4353641, 51.1946983),\n",
              " 'Münster': (7.6251879, 51.9625101),\n",
              " 'Potsdam': (13.0591397, 52.4009309),\n",
              " 'Regensburg': (12.0974869, 49.0195333),\n",
              " 'Reinbek': (10.2511001, 53.5098898),\n",
              " 'Stade': (9.475438, 53.599794),\n",
              " 'Viersen': (6.3905476, 51.2562118),\n",
              " 'Wetzlar': (8.5074406, 50.5525346)}"
            ]
          },
          "metadata": {},
          "execution_count": 37
        }
      ]
    },
    {
      "cell_type": "code",
      "metadata": {
        "id": "9q9Qv4Hzp76x"
      },
      "source": [
        "#merge\n",
        "merged_pack_city = pd.merge(\n",
        "    left=plz_shape_df, \n",
        "    right=packages_per_city, \n",
        "    on='plz',\n",
        "    how='left'\n",
        ")"
      ],
      "execution_count": 44,
      "outputs": []
    },
    {
      "cell_type": "code",
      "metadata": {
        "id": "pkyJGZ1F0nFu"
      },
      "source": [
        "merged_pack_city['num_packages'] = merged_pack_city['num_packages'].fillna(0)"
      ],
      "execution_count": 46,
      "outputs": []
    },
    {
      "cell_type": "code",
      "metadata": {
        "colab": {
          "base_uri": "https://localhost:8080/",
          "height": 280
        },
        "id": "_LZoSHLGTuMi",
        "outputId": "12f654b7-4b02-442d-b739-367d91c8ecc9"
      },
      "source": [
        "#plot a map\n",
        "fig,ax = plt.subplots()\n",
        "\n",
        "merged_pack_city.plot(\n",
        "    figsize = (200,100),\n",
        "    ax=ax, \n",
        "    column='num_packages', \n",
        "    categorical=False, \n",
        "    legend=True, \n",
        "    cmap='autumn_r',\n",
        "    alpha=0.9,\n",
        ")\n",
        "for c in top_cities.keys():\n",
        "    if merged_pack_city[merged_pack_city[\"city\"] == c].iloc[0][\"num_packages\"] < 30 :\n",
        "      continue;\n",
        "\n",
        "    ax.text(\n",
        "        x=top_cities[c][0], \n",
        "        y=top_cities[c][1] + 0.08, \n",
        "        s=c, \n",
        "        fontsize=12,\n",
        "        ha='center', \n",
        "    )\n",
        "\n",
        "    ax.plot(\n",
        "        top_cities[c][0], \n",
        "        top_cities[c][1], \n",
        "        marker='o',\n",
        "        c='black', \n",
        "        alpha=0.5\n",
        "    )\n",
        "    \n",
        "ax.set(\n",
        "    title='Germany: Number of packages per city', \n",
        "    aspect=1.3, \n",
        "    facecolor='lightblue'\n",
        ");\n",
        "plt.show()"
      ],
      "execution_count": 83,
      "outputs": [
        {
          "output_type": "display_data",
          "data": {
            "image/png": "[encoded data removed]",
            "text/plain": [
              "<Figure size 432x288 with 2 Axes>"
            ]
          },
          "metadata": {
            "needs_background": "light"
          }
        }
      ]
    }
  ]
}